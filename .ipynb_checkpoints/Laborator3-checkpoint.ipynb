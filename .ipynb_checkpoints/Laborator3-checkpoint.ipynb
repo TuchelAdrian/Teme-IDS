{
 "cells": [
  {
   "cell_type": "markdown",
   "metadata": {},
   "source": [
    "# Laborator 3\n",
    "\n",
    "Saptamana 11-15 martie 2019"
   ]
  },
  {
   "cell_type": "markdown",
   "metadata": {},
   "source": [
    "## Exercitii simple folosind API de NumPy  \n",
    "\n",
    "Nota: in rezolvarea exercitiilor se vor folosi cat mai mult functii NumPy vectorizate. Functiile scrise de voi vor fi documentate cu docstrings (tutoriale: Docstrings in Python, urmati NumPy Style Python Docstrings). Folositi type annotations. Utilizati doar pachetele NumPy si SciPy."
   ]
  },
  {
   "cell_type": "markdown",
   "metadata": {},
   "source": [
    "1. (0.5 puncte) Folosind functia `np.where`, determinati care sunt liniile si coloanele care contin un element dat intr-o matrice. \n",
    "1. (0.5 puncte) Pentru o matrice de numere, sa se determine produsul elementelor pe linii.\n",
    "1. (0.5 puncte) Determinati daca toate elementele unei matrice `a` sunt mai mari sau egale decat toate de pe pozitiile corespondente din `b`.\n",
    "1. (0.5 puncte) Pentru un vector de numere, care sunt *toate pozitiile* pe care apare valoarea maxima? Folositi functie NumPy.\n",
    "1. (0.5 puncte) Se considera vectorul: `a = np.array([230, 10, 284, 39, 76])`. Folosind indexarea logica, sa se inmulteasca elementele din vector care sunt mai mici ca 100 cu 2 (restul raman neschimbate). Folosind ciclare, sa se aplice aceeasi operatie pana cand toate elementele devin mai mari ca 100. Sa se afiseze din vectorul final elementele care sunt mai mari de 150 si mai mici de 200.\n",
    "1. (0.5 puncte) Sa se scrie o functie care preia doi vectori de aceeasi lungime si returneaza maximele pe pozitiile corespunzatoare:\n",
    "```python\n",
    "a = np.array([3, 7, 9, 13, -10, 200, 3])\n",
    "b = np.array([4, 5, -9, 100, 300, 230, 1])\n",
    "pair_max(a, b)\n",
    "#iesire dorita: \n",
    "array([  4,   7,   9, 100, 300, 230,   3])\n",
    "```\n",
    "1. (1 punct) Sa se calculeze suma elementelor non-NaN intr-un 2d numpy array, in 3 feluri. Folosind comanda magica `%%timeit` [Built-in magic commands](http://ipython.readthedocs.io/en/stable/interactive/magics.html#cell-magics), [IPython Magic Commands](https://jakevdp.github.io/PythonDataScienceHandbook/01.03-magic-commands.html), sa se determine care e mai rapida.\n",
    "    1. Peste o copie a tabelului initial (functia membru `copy()` a unui tablou) se suprascriu elementele nan cu 0, apoi se face suma;\n",
    "    1. Folosind functia `np.nansum`;\n",
    "    1. Folosind indiciere booleana si functia `np.isnan`, se determina colectia elementelor non-nan si se calculeaza suma lor in mod obisnuit.\n",
    "1. (1 punct) Incarcati setul de date Iris, de la adresa 'https://archive.ics.uci.edu/ml/machine-learning-databases/iris/iris.data', folosind `np.genfromtxt`.  Alegeti aleator 10 pozitii in matricea de 150 linii si 4 coloane (omiteti ultima coloana, de tip text), setati aceste valori pe NaN. Construiti o functie care, primid la intrare o matrice, returneaza un tuplu cu indicii de linie respectiv de coloana in care se gasesc valori NaN.\n",
    "1. (1 punct) Construiti o functie care, primind o matrice, determina pe ce pozitii se afla valorile in afara unui interval \\[min, max\\] dat prin parametri. \n",
    "1. (1 punct) Sa se construiasca o functie care returneaza cele mai mari `k` valori dintr-un vector de cel putin `k` elemente, impreuna cu pozitiile lor. "
   ]
  },
  {
   "cell_type": "markdown",
   "metadata": {},
   "source": [
    "**Precizari:**\n",
    "1. Se acorda 3 puncte din oficiu.\n",
    "1. Tema se va prezenta in sapatamana 18-22 martie. \n",
    "1. Modalitatea de predare a temei: \n",
    "    1. se vor forma si se va lucra in echipe de cate doua persoane (in cazul in care nu se poate, se va lucra individual)\n",
    "    2. exercitiile rezolvate se vor comite pe un repository **privat** de [Github](https://github.com/), la care vor avea doar acces membrii echipei si profesorii, Lucian Mircea Sasu (cont github: lmsasu) respectiv Arpad Kerestely (cont github: akerestely)\n",
    "    3. repository-ul va contine un fisier \"readme.md\" (in radacina repository-ului) in care vor fi mentionati autorii temelor (cu nume complet)"
   ]
  },
  {
   "cell_type": "code",
   "execution_count": 8,
   "metadata": {},
   "outputs": [],
   "source": [
    "import numpy as np"
   ]
  },
  {
   "cell_type": "code",
   "execution_count": 11,
   "metadata": {},
   "outputs": [
    {
     "name": "stdout",
     "output_type": "stream",
     "text": [
      "[[ 1  2  3  4]\n",
      " [ 5  4  7  9]\n",
      " [ 9 10 11  4]\n",
      " [ 4 47  9 16]]\n",
      "Lines where the element is:  [1, 2, 3]\n",
      "Columns where the element is:  [3, 0, 2]\n"
     ]
    }
   ],
   "source": [
    "# Problem 1\n",
    "\n",
    "def fun(matrix, element):\n",
    "    \"\"\"This function stores in the variable 'location', the lines and the columns where we can find the 'element'\n",
    "        Parameters: matrix, element(the element searched)\n",
    "        Return: Nothing\"\"\"\n",
    "    \n",
    "    location=np.where(matrix == element)\n",
    "    print(\"Lines where the element is: \", list(location[0]))\n",
    "    print(\"Columns where the element is: \",list(location[1]))\n",
    "    \n",
    "matrix: int= np.matrix([[1, 2, 3, 4], [5, 4, 7, 9],[9, 10, 11, 4], [4, 47, 9, 16]])\n",
    "print(matrix)\n",
    "fun(matrix, 9)\n"
   ]
  },
  {
   "cell_type": "code",
   "execution_count": 15,
   "metadata": {},
   "outputs": [
    {
     "name": "stdout",
     "output_type": "stream",
     "text": [
      "Matrix: \n",
      " [[ 1  2  3  4]\n",
      " [ 5  6  7  8]\n",
      " [ 2  4  5 10]\n",
      " [ 1  2  3  4]]\n",
      "The product on lines:\n"
     ]
    },
    {
     "data": {
      "text/plain": [
       "matrix([[  24],\n",
       "        [1680],\n",
       "        [ 400],\n",
       "        [  24]])"
      ]
     },
     "execution_count": 15,
     "metadata": {},
     "output_type": "execute_result"
    }
   ],
   "source": [
    "# Problem 2\n",
    "\n",
    "def fun(matrix):\n",
    "    \"\"\"This function stores in the variable 'matrix_transpose' the product of the initial matrix\n",
    "        and after that the variable is transpose\n",
    "        Parameters: matrix\n",
    "        Return: The matrix transpose\"\"\"\n",
    "    \n",
    "    matrix_transpose=matrix.prod(axis=1)\n",
    "    matrix_transpose.transpose()\n",
    "    print(\"The product on lines:\")\n",
    "    return matrix_transpose\n",
    "\n",
    "matrix: int = np.matrix([[1, 2, 3, 4], [5, 6, 7, 8],[2, 4, 5, 10], [1, 2, 3, 4]])\n",
    "print(\"Matrix: \\n\", matrix)\n",
    "fun(matrix)"
   ]
  },
  {
   "cell_type": "code",
   "execution_count": 14,
   "metadata": {},
   "outputs": [
    {
     "name": "stdout",
     "output_type": "stream",
     "text": [
      "[[ 2  3  4  5]\n",
      " [ 6  7  8  9]\n",
      " [10 11 12 13]\n",
      " [13 14 15 15]]\n",
      "[[ 1  2  3  4]\n",
      " [ 5  6  7  8]\n",
      " [ 9 10 11 12]\n",
      " [13 14 15 16]]\n",
      "False\n",
      "Toate elementele matricei a nu sunt mai mari sau egale decat toate elementele matricei b\n"
     ]
    }
   ],
   "source": [
    "#Problema 3\n",
    "\n",
    "matrix1 = np.array([[2, 3, 4, 5], [6, 7, 8 ,9 ],[10, 11, 12, 13], [13, 14, 15, 15]])\n",
    "matrix2 = np.array([[1, 2, 3, 4], [5, 6, 7, 8],[9, 10, 11, 12], [13, 14, 15, 16]])\n",
    "print(matrix1)\n",
    "print(matrix2)\n",
    "print(np.greater_equal(matrix1,matrix2).all())\n",
    "if(np.greater_equal(matrix1, matrix2).all()):\n",
    "    print(\"Toate elementele matricei a sunt mai mari sau egale decat toate elementele matricei b\")\n",
    "else:\n",
    "    print(\"Toate elementele matricei a nu sunt mai mari sau egale decat toate elementele matricei b\")"
   ]
  },
  {
   "cell_type": "code",
   "execution_count": 15,
   "metadata": {},
   "outputs": [
    {
     "name": "stdout",
     "output_type": "stream",
     "text": [
      "Elementul maxim este:  99\n",
      "Pozitiile unde se afla elementul maxim in vector sunt [7, 16]\n"
     ]
    }
   ],
   "source": [
    "# Problema 4 \n",
    "\n",
    "array1 = np.array([1,2,3,4,5,6,7,99,8,9,10,11,12,13,14,15,99,16,17,18,19,20])\n",
    "maxElement = np.max(array1)\n",
    "print(\"Elementul maxim este: \", maxElement)\n",
    "\n",
    "rezultat = np.where(array1 == maxElement)\n",
    "print(\"Pozitiile unde se afla elementul maxim in vector sunt\", list(rezultat[0]))"
   ]
  },
  {
   "cell_type": "code",
   "execution_count": 91,
   "metadata": {},
   "outputs": [
    {
     "name": "stdout",
     "output_type": "stream",
     "text": [
      "Inainte de modificare vectorul este:\n",
      " [230, 10, 284, 39, 76]\n",
      "Indexare logica:\n",
      " [230, 20, 284, 78, 152]\n",
      "Ciclare:\n",
      " [230 160 284 156 152]\n",
      "Elementele finale:\n",
      " [160 156 152]\n"
     ]
    }
   ],
   "source": [
    "#Problema 5\n",
    "\n",
    "# indexare logica\n",
    "arr = np.array([230, 10, 284, 39, 76])\n",
    "print(\"Inainte de modificare vectorul este:\\n\", list(arr))\n",
    "\n",
    "# daca elementul este mai mic ca 100 se inmulteste cu 2\n",
    "arr[arr < 100] *= 2\n",
    "print((\"Indexare logica:\\n\"), list(arr))\n",
    "\n",
    "#ciclare \n",
    "arr = np.array([230, 10, 284, 39, 76])\n",
    "#arr1 = [i*2 if i < 100 else i for i in arr]\n",
    "while np.any(arr<100):\n",
    "    arr[arr<100]*=2\n",
    "print(\"Ciclare:\\n\", arr)\n",
    "print(\"Elementele finale:\\n\",arr[np.logical_and(arr>150, arr<200)])"
   ]
  },
  {
   "cell_type": "code",
   "execution_count": 57,
   "metadata": {},
   "outputs": [
    {
     "name": "stdout",
     "output_type": "stream",
     "text": [
      "[4, 7, 9, 100, 300, 230, 3]\n"
     ]
    }
   ],
   "source": [
    "#Problema 6\n",
    "\n",
    "def pair_max(array1, array2):\n",
    "    return np.maximum(array1, array2)\n",
    "\n",
    "a = np.array([3, 7, 9, 13, -10, 200, 3])\n",
    "b = np.array([4, 5, -9, 100, 300, 230, 1])\n",
    "rezultat = np.array([None] * 10)\n",
    "rezultat = pair_max(a,b)\n",
    "print(list(rezultat))"
   ]
  },
  {
   "cell_type": "code",
   "execution_count": 167,
   "metadata": {},
   "outputs": [
    {
     "name": "stdout",
     "output_type": "stream",
     "text": [
      "Wall time: 0 ns\n",
      "[[ 1.  2.  3.]\n",
      " [nan  4.  5.]\n",
      " [nan nan  6.]]\n",
      "[[1. 2. 3.]\n",
      " [0. 4. 5.]\n",
      " [0. 0. 6.]]\n",
      "21.0\n"
     ]
    },
    {
     "data": {
      "text/plain": [
       "21.0"
      ]
     },
     "execution_count": 167,
     "metadata": {},
     "output_type": "execute_result"
    }
   ],
   "source": [
    "#Problema 7\n",
    "\n",
    "import timeit\n",
    "\n",
    "%time\n",
    "matrix=np.array([[1, 2, 3],\n",
    "        [np.nan,4 , 5],\n",
    "        [np.nan, np.nan, 6]])\n",
    "print(matrix)\n",
    "\n",
    "def fun1():\n",
    "    copy=matrix.copy()\n",
    "    copy[np.isnan(copy)]=0\n",
    "    print(copy)\n",
    "    print(copy.sum())\n",
    "    \n",
    "def fun2():\n",
    "    return np.nansum(matrix)\n",
    "\n",
    "def fun3():\n",
    "    notNone=np.isnan(matrix)\n",
    "    print(notNone)\n",
    "    print(matrix2)\n",
    "    \n",
    "fun1()\n",
    "fun2()\n",
    "#fun3()"
   ]
  },
  {
   "cell_type": "code",
   "execution_count": 197,
   "metadata": {},
   "outputs": [
    {
     "name": "stdout",
     "output_type": "stream",
     "text": [
      "[[5.1 3.5 1.4 0.2]\n",
      " [4.9 3.  1.4 0.2]\n",
      " [4.7 3.2 1.3 0.2]\n",
      " [4.6 3.1 1.5 0.2]\n",
      " [5.  3.6 1.4 0.2]\n",
      " [5.4 3.9 1.7 0.4]\n",
      " [4.6 3.4 1.4 0.3]\n",
      " [5.  3.4 1.5 0.2]\n",
      " [4.4 2.9 1.4 0.2]\n",
      " [4.9 3.1 nan 0.1]\n",
      " [5.4 3.7 1.5 0.2]\n",
      " [4.8 3.4 1.6 0.2]\n",
      " [4.8 3.  1.4 0.1]\n",
      " [4.3 3.  1.1 0.1]\n",
      " [5.8 4.  1.2 0.2]\n",
      " [5.7 4.4 1.5 0.4]\n",
      " [5.4 3.9 1.3 0.4]\n",
      " [5.1 3.5 1.4 0.3]\n",
      " [5.7 3.8 1.7 0.3]\n",
      " [5.1 3.8 1.5 0.3]\n",
      " [5.4 3.4 1.7 0.2]\n",
      " [5.1 3.7 1.5 0.4]\n",
      " [4.6 3.6 1.  0.2]\n",
      " [5.1 3.3 1.7 0.5]\n",
      " [4.8 3.4 nan 0.2]\n",
      " [5.  3.  1.6 0.2]\n",
      " [5.  3.4 1.6 0.4]\n",
      " [5.2 3.5 1.5 0.2]\n",
      " [5.2 3.4 1.4 0.2]\n",
      " [4.7 3.2 1.6 0.2]\n",
      " [4.8 nan 1.6 0.2]\n",
      " [5.4 3.4 1.5 0.4]\n",
      " [5.2 4.1 1.5 0.1]\n",
      " [5.5 4.2 1.4 0.2]\n",
      " [4.9 3.1 1.5 0.1]\n",
      " [5.  3.2 1.2 0.2]\n",
      " [5.5 3.5 1.3 0.2]\n",
      " [4.9 3.1 1.5 0.1]\n",
      " [4.4 3.  1.3 0.2]\n",
      " [5.1 3.4 1.5 0.2]\n",
      " [5.  3.5 1.3 0.3]\n",
      " [4.5 2.3 1.3 0.3]\n",
      " [4.4 3.2 1.3 0.2]\n",
      " [5.  3.5 1.6 0.6]\n",
      " [5.1 3.8 1.9 0.4]\n",
      " [4.8 3.  1.4 0.3]\n",
      " [5.1 3.8 1.6 0.2]\n",
      " [4.6 3.2 1.4 0.2]\n",
      " [5.3 3.7 1.5 0.2]\n",
      " [5.  3.3 1.4 0.2]\n",
      " [7.  3.2 4.7 1.4]\n",
      " [6.4 nan 4.5 1.5]\n",
      " [6.9 3.1 4.9 1.5]\n",
      " [5.5 2.3 4.  1.3]\n",
      " [6.5 2.8 4.6 1.5]\n",
      " [nan 2.8 4.5 1.3]\n",
      " [6.3 3.3 4.7 1.6]\n",
      " [4.9 2.4 3.3 1. ]\n",
      " [6.6 2.9 4.6 1.3]\n",
      " [5.2 2.7 3.9 1.4]\n",
      " [5.  2.  3.5 1. ]\n",
      " [5.9 3.  4.2 1.5]\n",
      " [6.  2.2 4.  1. ]\n",
      " [6.1 2.9 4.7 1.4]\n",
      " [5.6 2.9 3.6 1.3]\n",
      " [6.7 3.1 4.4 1.4]\n",
      " [5.6 3.  4.5 1.5]\n",
      " [5.8 2.7 4.1 1. ]\n",
      " [6.2 2.2 4.5 1.5]\n",
      " [5.6 2.5 3.9 1.1]\n",
      " [5.9 3.2 4.8 1.8]\n",
      " [6.1 2.8 4.  1.3]\n",
      " [6.3 2.5 4.9 1.5]\n",
      " [6.1 2.8 4.7 1.2]\n",
      " [6.4 2.9 4.3 1.3]\n",
      " [6.6 3.  4.4 1.4]\n",
      " [6.8 2.8 4.8 1.4]\n",
      " [6.7 3.  5.  1.7]\n",
      " [6.  2.9 4.5 1.5]\n",
      " [5.7 2.6 3.5 1. ]\n",
      " [5.5 2.4 3.8 1.1]\n",
      " [5.5 2.4 3.7 1. ]\n",
      " [5.8 2.7 3.9 1.2]\n",
      " [6.  2.7 5.1 1.6]\n",
      " [5.4 3.  4.5 1.5]\n",
      " [6.  3.4 nan 1.6]\n",
      " [6.7 3.1 4.7 1.5]\n",
      " [6.3 2.3 4.4 1.3]\n",
      " [5.6 3.  4.1 1.3]\n",
      " [5.5 2.5 4.  1.3]\n",
      " [5.5 2.6 4.4 1.2]\n",
      " [6.1 3.  4.6 1.4]\n",
      " [5.8 2.6 4.  1.2]\n",
      " [5.  2.3 3.3 1. ]\n",
      " [5.6 2.7 4.2 1.3]\n",
      " [5.7 3.  4.2 1.2]\n",
      " [5.7 2.9 4.2 1.3]\n",
      " [6.2 2.9 4.3 1.3]\n",
      " [5.1 2.5 3.  1.1]\n",
      " [5.7 2.8 4.1 1.3]\n",
      " [6.3 3.3 6.  2.5]\n",
      " [5.8 2.7 5.1 1.9]\n",
      " [7.1 3.  5.9 2.1]\n",
      " [6.3 2.9 5.6 1.8]\n",
      " [6.5 3.  5.8 2.2]\n",
      " [7.6 3.  6.6 2.1]\n",
      " [4.9 2.5 4.5 1.7]\n",
      " [7.3 2.9 6.3 1.8]\n",
      " [6.7 2.5 5.8 1.8]\n",
      " [7.2 3.6 6.1 2.5]\n",
      " [6.5 3.2 nan 2. ]\n",
      " [6.4 2.7 5.3 1.9]\n",
      " [6.8 3.  5.5 2.1]\n",
      " [5.7 2.5 5.  2. ]\n",
      " [5.8 2.8 5.1 nan]\n",
      " [6.4 3.2 5.3 2.3]\n",
      " [6.5 3.  5.5 1.8]\n",
      " [7.7 3.8 6.7 2.2]\n",
      " [7.7 2.6 6.9 2.3]\n",
      " [6.  2.2 5.  1.5]\n",
      " [6.9 3.2 5.7 2.3]\n",
      " [5.6 2.8 4.9 2. ]\n",
      " [7.7 2.8 6.7 2. ]\n",
      " [6.3 2.7 4.9 1.8]\n",
      " [6.7 3.3 5.7 2.1]\n",
      " [7.2 3.2 6.  1.8]\n",
      " [6.2 2.8 4.8 1.8]\n",
      " [6.1 3.  4.9 1.8]\n",
      " [6.4 2.8 5.6 2.1]\n",
      " [7.2 3.  5.8 1.6]\n",
      " [7.4 2.8 6.1 1.9]\n",
      " [7.9 3.8 6.4 2. ]\n",
      " [6.4 2.8 5.6 2.2]\n",
      " [6.3 2.8 5.1 1.5]\n",
      " [6.1 2.6 5.6 1.4]\n",
      " [7.7 3.  6.1 2.3]\n",
      " [6.3 3.4 5.6 2.4]\n",
      " [6.4 3.1 5.5 1.8]\n",
      " [6.  3.  4.8 1.8]\n",
      " [6.9 3.1 5.4 2.1]\n",
      " [6.7 3.1 5.6 2.4]\n",
      " [6.9 3.1 nan 2.3]\n",
      " [5.8 2.7 5.1 1.9]\n",
      " [6.8 3.2 5.9 2.3]\n",
      " [6.7 3.3 5.7 2.5]\n",
      " [6.7 3.  5.2 2.3]\n",
      " [6.3 2.5 5.  1.9]\n",
      " [6.5 3.  5.2 2. ]\n",
      " [6.2 3.4 5.4 nan]\n",
      " [5.9 3.  5.1 1.8]]\n"
     ]
    },
    {
     "data": {
      "text/plain": [
       "([9, 24, 30, 51, 55, 85, 110, 114, 141, 148], [2, 2, 1, 1, 0, 2, 2, 3, 2, 3])"
      ]
     },
     "execution_count": 197,
     "metadata": {},
     "output_type": "execute_result"
    }
   ],
   "source": [
    "#Problema 8\n",
    "import random\n",
    "from io import StringIO\n",
    "\n",
    "data=np.genfromtxt(\"iris.data.txt\", delimiter=',', usecols=(0, 1, 2, 3))\n",
    "#print(data)\n",
    "# rand=random.choice(data)\n",
    "# for i in range(0, 10):\n",
    "#     np.where(data==random.choice(rand), np.nan, data)\n",
    "#     print(random.choice(rand))\n",
    "data=np.array(data)\n",
    "for i in range(0, 10):\n",
    "    random_index1 = np.random.randint(0, data.shape[0])\n",
    "    random_index2 = np.random.randint(0, data.shape[1])\n",
    "    data[random_index1, random_index2]=np.nan\n",
    "print(data)\n",
    "\n",
    "def fun(data):\n",
    "    location=np.where(np.isnan(data))\n",
    "    return list(location[0]), list(location[1])\n",
    "fun(data)"
   ]
  },
  {
   "cell_type": "code",
   "execution_count": 200,
   "metadata": {},
   "outputs": [
    {
     "name": "stdout",
     "output_type": "stream",
     "text": [
      "[0 0 0 0 1 1 2 2 2 3 3 3] [0 1 2 3 0 2 1 2 3 0 1 2]\n"
     ]
    }
   ],
   "source": [
    "#Problema 9\n",
    "\n",
    "mat=np.array([[1,2,3,4],\n",
    "              [3,5,2,7],\n",
    "              [6,9,1,4],\n",
    "              [3,8,1,7]])\n",
    "\n",
    "def fun(min,max):\n",
    "    positions=np.where(np.logical_or(mat > max , mat < min))\n",
    "    print(positions[0], positions[1])\n",
    "    \n",
    "fun(5,7)"
   ]
  },
  {
   "cell_type": "code",
   "execution_count": 5,
   "metadata": {},
   "outputs": [
    {
     "name": "stdout",
     "output_type": "stream",
     "text": [
      "Elementele maxime: [95 97 98 99]\n",
      "Indicii: [ 6 10 13 18]\n"
     ]
    }
   ],
   "source": [
    "#Problema 10\n",
    "\n",
    "mat=np.array([1,2,3,4,5,6,95,8,9,10,97,12,13,98,15,16,17,18,99])\n",
    "def fun(n):\n",
    "    ind=np.argpartition(mat, -n)[-n:]\n",
    "    print(\"Elementele maxime:\", mat[ind])\n",
    "    print(\"Indicii:\", ind)\n",
    "fun(4)"
   ]
  },
  {
   "cell_type": "code",
   "execution_count": null,
   "metadata": {},
   "outputs": [],
   "source": []
  }
 ],
 "metadata": {
  "kernelspec": {
   "display_name": "Python 3",
   "language": "python",
   "name": "python3"
  },
  "language_info": {
   "codemirror_mode": {
    "name": "ipython",
    "version": 3
   },
   "file_extension": ".py",
   "mimetype": "text/x-python",
   "name": "python",
   "nbconvert_exporter": "python",
   "pygments_lexer": "ipython3",
   "version": "3.7.1"
  },
  "toc": {
   "base_numbering": 1,
   "nav_menu": {},
   "number_sections": true,
   "sideBar": true,
   "skip_h1_title": false,
   "title_cell": "Table of Contents",
   "title_sidebar": "Contents",
   "toc_cell": false,
   "toc_position": {},
   "toc_section_display": true,
   "toc_window_display": false
  }
 },
 "nbformat": 4,
 "nbformat_minor": 2
}
