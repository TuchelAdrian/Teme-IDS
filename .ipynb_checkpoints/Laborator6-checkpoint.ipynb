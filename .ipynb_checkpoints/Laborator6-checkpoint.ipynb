{
 "cells": [
  {
   "cell_type": "markdown",
   "metadata": {},
   "source": [
    "# Laborator 6"
   ]
  },
  {
   "cell_type": "markdown",
   "metadata": {},
   "source": [
    "## Modele de clasificare\n",
    "\n",
    "Folositi urmatoarele seturi de date:\n",
    "1. [Semeion Handwritten Digit Data Set](http://archive.ics.uci.edu/ml/datasets/Semeion+Handwritten+Digit)\n",
    "1. [Wireless Indoor Localization Data Set](http://archive.ics.uci.edu/ml/datasets/Wireless+Indoor+Localization)\n",
    "1. [Spambase Data Set](http://archive.ics.uci.edu/ml/datasets/Spambase)\n",
    "1. [Smartphone Dataset for Human Activity Recognition (HAR) in Ambient Assisted Living (AAL) Data Set ](http://archive.ics.uci.edu/ml/datasets/Smartphone+Dataset+for+Human+Activity+Recognition+%28HAR%29+in+Ambient+Assisted+Living+%28AAL%29)\n",
    "\n",
    "plus inca doua seturi de date de clasificare alese de voi, din repository-urile specificate in Cursul 4. \n",
    "\n",
    "1. Daca e necesar, aplicati o metoda de missing value imputation sau eliminati inregistrarile/coloanele care au valori lipsa; documentati metoda folosita.\n",
    "1. Pentru fiecare set de date aplicati 5 modele de clasificare din scikit learn. Pentru fiecare raportati: acuratete, scor F1 - a se vedea [sklearn.metrics](http://scikit-learn.org/stable/modules/classes.html#module-sklearn.metrics) folosind 5 fold cross validation. Raportati mediile rezultatelor atat pentru fold-urile de antrenare, cat si pentru cele de testare. Revedeti formele ulterioare ale acestui document pentru precizari despre: continutul rezultatelor raportate, modalitate de notare. \n",
    "1. Documentati in jupyter notebook fiecare din modelele folosite, in limba romana. Puteti face o sectiune o sectiune separata cu documentarea algoritmilor + trimitere la algoritm. \n",
    "1. Pentru fiecare model: efectuati o cautare a hiperparametrilor optimi folosind grid search si random search.\n",
    "\n",
    "Exemple de modele de clasificare:\n",
    "1. [Multi-layer Perceptron classifier](https://scikit-learn.org/stable/modules/generated/sklearn.neural_network.MLPClassifier.html#sklearn.neural_network.MLPClassifier)\n",
    "1. [KNN](https://scikit-learn.org/stable/modules/generated/sklearn.neighbors.KNeighborsClassifier.html#sklearn.neighbors.KNeighborsClassifier)\n",
    "1. [SVM](https://scikit-learn.org/stable/modules/generated/sklearn.svm.SVC.html#sklearn.svm.SVC)\n",
    "1. [Gaussian processes](https://scikit-learn.org/stable/modules/generated/sklearn.gaussian_process.GaussianProcessClassifier.html#sklearn.gaussian_process.GaussianProcessClassifier)\n",
    "1. [RBF](https://scikit-learn.org/stable/modules/generated/sklearn.gaussian_process.kernels.RBF.html#sklearn.gaussian_process.kernels.RBF)\n",
    "1. [Decision tree](https://scikit-learn.org/stable/modules/generated/sklearn.tree.DecisionTreeClassifier.html#sklearn.tree.DecisionTreeClassifier)\n",
    "1. [Random forest](https://scikit-learn.org/stable/modules/generated/sklearn.ensemble.RandomForestClassifier.html#sklearn.ensemble.RandomForestClassifier)\n",
    "1. [Gaussian Naive bayes](https://scikit-learn.org/stable/modules/generated/sklearn.naive_bayes.GaussianNB.html#sklearn.naive_bayes.GaussianNB) \n",
    "\n",
    "Pentru fiecare set de date raportati rezultalele obtinute de fiecare model. "
   ]
  },
  {
   "cell_type": "markdown",
   "metadata": {},
   "source": [
    "*Predare:* laboratorul va fi salvat in repository-ul de github si predat in saptamana 15-19 aprilie."
   ]
  },
  {
   "cell_type": "code",
   "execution_count": 1,
   "metadata": {},
   "outputs": [],
   "source": [
    "import pandas as pd\n",
    "import numpy as np\n",
    "import sys\n",
    "\n",
    "if not sys.warnoptions:\n",
    "    import warnings\n",
    "    warnings.simplefilter(\"ignore\")\n",
    "\n",
    "from sklearn.model_selection import train_test_split\n",
    "from sklearn.neighbors import KNeighborsClassifier\n",
    "from sklearn import metrics\n",
    "from sklearn.neural_network import MLPClassifier\n",
    "from sklearn.svm import SVC\n",
    "from sklearn.gaussian_process import GaussianProcessClassifier\n",
    "from sklearn.tree import DecisionTreeClassifier\n",
    "from sklearn.ensemble import RandomForestClassifier\n",
    "from sklearn.naive_bayes import GaussianNB"
   ]
  },
  {
   "cell_type": "code",
   "execution_count": 2,
   "metadata": {},
   "outputs": [
    {
     "name": "stdout",
     "output_type": "stream",
     "text": [
      "[0 1 1 ... 1 1 2]\n"
     ]
    }
   ],
   "source": [
    "data_semeion = pd.read_csv('semeion.data', header=None, delimiter=r'\\s+')\n",
    "data_wireless = pd.read_csv('wifi_localization.txt', header=None, delimiter=r'\\s+')\n",
    "data_spambase = pd.read_csv('spambase.data', header=None)\n",
    "data_wine=pd.read_csv('wine.data', header=None)\n",
    "data_poker=pd.read_csv('poker-hand-testing.data', header=None)\n",
    "\n",
    "x_semeion=data_semeion.values[:,:-10]\n",
    "y_semeion=data_semeion.values[:,-10:]\n",
    "\n",
    "x_wireless=data_wireless.values[:,:-1]\n",
    "y_wireless=data_wireless.values[:,-1:]\n",
    "\n",
    "x_spambase=data_spambase.values[:,:-1]\n",
    "y_spambase=data_spambase.values[:,-1]\n",
    "\n",
    "x_test_smartphone=pd.read_csv('final_x_test.txt', header=None)\n",
    "x_train_smartphone=pd.read_csv('final_x_train.txt', header=None)\n",
    "y_test_smartphone=pd.read_csv('final_y_test.txt', header=None)\n",
    "y_train_smartphone=pd.read_csv('final_y_train.txt', header=None)\n",
    "\n",
    "x_wine=data_wine.values[:,:-1]\n",
    "y_wine=data_wine.values[:,-1]\n",
    "\n",
    "x_poker=data_poker.values[:,:-1]\n",
    "y_poker=data_poker.values[:,-1]\n",
    "\n",
    "print(y_poker)"
   ]
  },
  {
   "cell_type": "code",
   "execution_count": 29,
   "metadata": {},
   "outputs": [
    {
     "name": "stdout",
     "output_type": "stream",
     "text": [
      "Test:\n",
      "Acuratete: 0.864406779661017\n",
      "Train:\n",
      "Acuratete: 0.923728813559322\n",
      "Test:\n",
      "Acuratete: 0.8681732580037664\n",
      "Train:\n",
      "Acuratete: 0.9190207156308852\n",
      "Test:\n",
      "Acuratete: 0.847457627118644\n",
      "Train:\n",
      "Acuratete: 0.9265536723163842\n",
      "Test:\n",
      "Acuratete: 0.8738229755178908\n",
      "Train:\n",
      "Acuratete: 0.9190207156308852\n",
      "Test:\n",
      "Acuratete: 0.896421845574388\n",
      "Train:\n",
      "Acuratete: 0.9190207156308852\n"
     ]
    }
   ],
   "source": [
    "#Semeion\n",
    "for i in range(5):\n",
    "    x_train, x_test, y_train, y_test = train_test_split(x_semeion, y_semeion, test_size=1/3, random_state=i)\n",
    "    model = KNeighborsClassifier()\n",
    "    model.fit(x_train, y_train)\n",
    "    y_predicted = model.predict(x_test)\n",
    "    print('Test:')\n",
    "    print('Acuratete:', metrics.accuracy_score(y_test, y_predicted))\n",
    "    print('Train:')\n",
    "    y_predicted = model.predict(x_train)\n",
    "    print('Acuratete:', metrics.accuracy_score(y_train, y_predicted))"
   ]
  },
  {
   "cell_type": "code",
   "execution_count": 24,
   "metadata": {},
   "outputs": [
    {
     "name": "stdout",
     "output_type": "stream",
     "text": [
      "Test:\n",
      "Acuratete: 0.8493408662900188\n",
      "Train:\n",
      "Acuratete: 1.0\n",
      "Test:\n",
      "Acuratete: 0.8361581920903954\n",
      "Train:\n",
      "Acuratete: 1.0\n",
      "Test:\n",
      "Acuratete: 0.832391713747646\n",
      "Train:\n",
      "Acuratete: 1.0\n",
      "Test:\n",
      "Acuratete: 0.839924670433145\n",
      "Train:\n",
      "Acuratete: 1.0\n",
      "Test:\n",
      "Acuratete: 0.864406779661017\n",
      "Train:\n",
      "Acuratete: 1.0\n"
     ]
    }
   ],
   "source": [
    "for i in range(5):\n",
    "    x_train, x_test, y_train, y_test = train_test_split(x_semeion, y_semeion, test_size=1/3, random_state=i)\n",
    "    model = MLPClassifier()\n",
    "    model.fit(x_train, y_train)\n",
    "    y_predicted = model.predict(x_test)\n",
    "    print('Test:')\n",
    "    print('Acuratete:', metrics.accuracy_score(y_test, y_predicted))\n",
    "    print('Train:')\n",
    "    y_predicted = model.predict(x_train)\n",
    "    print('Acuratete:', metrics.accuracy_score(y_train, y_predicted))"
   ]
  },
  {
   "cell_type": "code",
   "execution_count": 48,
   "metadata": {},
   "outputs": [
    {
     "ename": "ValueError",
     "evalue": "bad input shape (1062, 10)",
     "output_type": "error",
     "traceback": [
      "\u001b[1;31m---------------------------------------------------------------------------\u001b[0m",
      "\u001b[1;31mValueError\u001b[0m                                Traceback (most recent call last)",
      "\u001b[1;32m<ipython-input-48-4eacd3713cc4>\u001b[0m in \u001b[0;36m<module>\u001b[1;34m\u001b[0m\n\u001b[0;32m      2\u001b[0m     \u001b[0mx_train\u001b[0m\u001b[1;33m,\u001b[0m \u001b[0mx_test\u001b[0m\u001b[1;33m,\u001b[0m \u001b[0my_train\u001b[0m\u001b[1;33m,\u001b[0m \u001b[0my_test\u001b[0m \u001b[1;33m=\u001b[0m \u001b[0mtrain_test_split\u001b[0m\u001b[1;33m(\u001b[0m\u001b[0mx_semeion\u001b[0m\u001b[1;33m,\u001b[0m \u001b[0my_semeion\u001b[0m\u001b[1;33m,\u001b[0m \u001b[0mtest_size\u001b[0m\u001b[1;33m=\u001b[0m\u001b[1;36m1\u001b[0m\u001b[1;33m/\u001b[0m\u001b[1;36m3\u001b[0m\u001b[1;33m,\u001b[0m \u001b[0mrandom_state\u001b[0m\u001b[1;33m=\u001b[0m\u001b[0mi\u001b[0m\u001b[1;33m)\u001b[0m\u001b[1;33m\u001b[0m\u001b[1;33m\u001b[0m\u001b[0m\n\u001b[0;32m      3\u001b[0m     \u001b[0mmodel\u001b[0m \u001b[1;33m=\u001b[0m \u001b[0mSVC\u001b[0m\u001b[1;33m(\u001b[0m\u001b[1;33m)\u001b[0m\u001b[1;33m\u001b[0m\u001b[1;33m\u001b[0m\u001b[0m\n\u001b[1;32m----> 4\u001b[1;33m     \u001b[0mmodel\u001b[0m\u001b[1;33m.\u001b[0m\u001b[0mfit\u001b[0m\u001b[1;33m(\u001b[0m\u001b[0mx_train\u001b[0m\u001b[1;33m,\u001b[0m \u001b[0my_train\u001b[0m\u001b[1;33m)\u001b[0m\u001b[1;33m\u001b[0m\u001b[1;33m\u001b[0m\u001b[0m\n\u001b[0m\u001b[0;32m      5\u001b[0m     \u001b[0my_predicted\u001b[0m \u001b[1;33m=\u001b[0m \u001b[0mmodel\u001b[0m\u001b[1;33m.\u001b[0m\u001b[0mpredict\u001b[0m\u001b[1;33m(\u001b[0m\u001b[0mx_test\u001b[0m\u001b[1;33m)\u001b[0m\u001b[1;33m\u001b[0m\u001b[1;33m\u001b[0m\u001b[0m\n\u001b[0;32m      6\u001b[0m     \u001b[0mprint\u001b[0m\u001b[1;33m(\u001b[0m\u001b[1;34m'Test:'\u001b[0m\u001b[1;33m)\u001b[0m\u001b[1;33m\u001b[0m\u001b[1;33m\u001b[0m\u001b[0m\n",
      "\u001b[1;32mD:\\Anaconda2\\lib\\site-packages\\sklearn\\svm\\base.py\u001b[0m in \u001b[0;36mfit\u001b[1;34m(self, X, y, sample_weight)\u001b[0m\n\u001b[0;32m    147\u001b[0m         X, y = check_X_y(X, y, dtype=np.float64,\n\u001b[0;32m    148\u001b[0m                          \u001b[0morder\u001b[0m\u001b[1;33m=\u001b[0m\u001b[1;34m'C'\u001b[0m\u001b[1;33m,\u001b[0m \u001b[0maccept_sparse\u001b[0m\u001b[1;33m=\u001b[0m\u001b[1;34m'csr'\u001b[0m\u001b[1;33m,\u001b[0m\u001b[1;33m\u001b[0m\u001b[1;33m\u001b[0m\u001b[0m\n\u001b[1;32m--> 149\u001b[1;33m                          accept_large_sparse=False)\n\u001b[0m\u001b[0;32m    150\u001b[0m         \u001b[0my\u001b[0m \u001b[1;33m=\u001b[0m \u001b[0mself\u001b[0m\u001b[1;33m.\u001b[0m\u001b[0m_validate_targets\u001b[0m\u001b[1;33m(\u001b[0m\u001b[0my\u001b[0m\u001b[1;33m)\u001b[0m\u001b[1;33m\u001b[0m\u001b[1;33m\u001b[0m\u001b[0m\n\u001b[0;32m    151\u001b[0m \u001b[1;33m\u001b[0m\u001b[0m\n",
      "\u001b[1;32mD:\\Anaconda2\\lib\\site-packages\\sklearn\\utils\\validation.py\u001b[0m in \u001b[0;36mcheck_X_y\u001b[1;34m(X, y, accept_sparse, accept_large_sparse, dtype, order, copy, force_all_finite, ensure_2d, allow_nd, multi_output, ensure_min_samples, ensure_min_features, y_numeric, warn_on_dtype, estimator)\u001b[0m\n\u001b[0;32m    759\u001b[0m                         dtype=None)\n\u001b[0;32m    760\u001b[0m     \u001b[1;32melse\u001b[0m\u001b[1;33m:\u001b[0m\u001b[1;33m\u001b[0m\u001b[1;33m\u001b[0m\u001b[0m\n\u001b[1;32m--> 761\u001b[1;33m         \u001b[0my\u001b[0m \u001b[1;33m=\u001b[0m \u001b[0mcolumn_or_1d\u001b[0m\u001b[1;33m(\u001b[0m\u001b[0my\u001b[0m\u001b[1;33m,\u001b[0m \u001b[0mwarn\u001b[0m\u001b[1;33m=\u001b[0m\u001b[1;32mTrue\u001b[0m\u001b[1;33m)\u001b[0m\u001b[1;33m\u001b[0m\u001b[1;33m\u001b[0m\u001b[0m\n\u001b[0m\u001b[0;32m    762\u001b[0m         \u001b[0m_assert_all_finite\u001b[0m\u001b[1;33m(\u001b[0m\u001b[0my\u001b[0m\u001b[1;33m)\u001b[0m\u001b[1;33m\u001b[0m\u001b[1;33m\u001b[0m\u001b[0m\n\u001b[0;32m    763\u001b[0m     \u001b[1;32mif\u001b[0m \u001b[0my_numeric\u001b[0m \u001b[1;32mand\u001b[0m \u001b[0my\u001b[0m\u001b[1;33m.\u001b[0m\u001b[0mdtype\u001b[0m\u001b[1;33m.\u001b[0m\u001b[0mkind\u001b[0m \u001b[1;33m==\u001b[0m \u001b[1;34m'O'\u001b[0m\u001b[1;33m:\u001b[0m\u001b[1;33m\u001b[0m\u001b[1;33m\u001b[0m\u001b[0m\n",
      "\u001b[1;32mD:\\Anaconda2\\lib\\site-packages\\sklearn\\utils\\validation.py\u001b[0m in \u001b[0;36mcolumn_or_1d\u001b[1;34m(y, warn)\u001b[0m\n\u001b[0;32m    795\u001b[0m         \u001b[1;32mreturn\u001b[0m \u001b[0mnp\u001b[0m\u001b[1;33m.\u001b[0m\u001b[0mravel\u001b[0m\u001b[1;33m(\u001b[0m\u001b[0my\u001b[0m\u001b[1;33m)\u001b[0m\u001b[1;33m\u001b[0m\u001b[1;33m\u001b[0m\u001b[0m\n\u001b[0;32m    796\u001b[0m \u001b[1;33m\u001b[0m\u001b[0m\n\u001b[1;32m--> 797\u001b[1;33m     \u001b[1;32mraise\u001b[0m \u001b[0mValueError\u001b[0m\u001b[1;33m(\u001b[0m\u001b[1;34m\"bad input shape {0}\"\u001b[0m\u001b[1;33m.\u001b[0m\u001b[0mformat\u001b[0m\u001b[1;33m(\u001b[0m\u001b[0mshape\u001b[0m\u001b[1;33m)\u001b[0m\u001b[1;33m)\u001b[0m\u001b[1;33m\u001b[0m\u001b[1;33m\u001b[0m\u001b[0m\n\u001b[0m\u001b[0;32m    798\u001b[0m \u001b[1;33m\u001b[0m\u001b[0m\n\u001b[0;32m    799\u001b[0m \u001b[1;33m\u001b[0m\u001b[0m\n",
      "\u001b[1;31mValueError\u001b[0m: bad input shape (1062, 10)"
     ]
    }
   ],
   "source": [
    "for i in range(5):\n",
    "    x_train, x_test, y_train, y_test = train_test_split(x_semeion, y_semeion, test_size=1/3, random_state=i)\n",
    "    model = SVC()\n",
    "    model.fit(x_train, y_train)\n",
    "    y_predicted = model.predict(x_test)\n",
    "    print('Test:')\n",
    "    print('Acuratete:', metrics.accuracy_score(y_test, y_predicted))\n",
    "    print('Train:')\n",
    "    y_predicted = model.predict(x_train)\n",
    "    print('Acuratete:', metrics.accuracy_score(y_train, y_predicted))"
   ]
  },
  {
   "cell_type": "code",
   "execution_count": 50,
   "metadata": {},
   "outputs": [
    {
     "ename": "ValueError",
     "evalue": "bad input shape (1062, 10)",
     "output_type": "error",
     "traceback": [
      "\u001b[1;31m---------------------------------------------------------------------------\u001b[0m",
      "\u001b[1;31mValueError\u001b[0m                                Traceback (most recent call last)",
      "\u001b[1;32m<ipython-input-50-0a518bc29a80>\u001b[0m in \u001b[0;36m<module>\u001b[1;34m\u001b[0m\n\u001b[0;32m      2\u001b[0m     \u001b[0mx_train\u001b[0m\u001b[1;33m,\u001b[0m \u001b[0mx_test\u001b[0m\u001b[1;33m,\u001b[0m \u001b[0my_train\u001b[0m\u001b[1;33m,\u001b[0m \u001b[0my_test\u001b[0m \u001b[1;33m=\u001b[0m \u001b[0mtrain_test_split\u001b[0m\u001b[1;33m(\u001b[0m\u001b[0mx_semeion\u001b[0m\u001b[1;33m,\u001b[0m \u001b[0my_semeion\u001b[0m\u001b[1;33m,\u001b[0m \u001b[0mtest_size\u001b[0m\u001b[1;33m=\u001b[0m\u001b[1;36m1\u001b[0m\u001b[1;33m/\u001b[0m\u001b[1;36m3\u001b[0m\u001b[1;33m,\u001b[0m \u001b[0mrandom_state\u001b[0m\u001b[1;33m=\u001b[0m\u001b[0mi\u001b[0m\u001b[1;33m)\u001b[0m\u001b[1;33m\u001b[0m\u001b[1;33m\u001b[0m\u001b[0m\n\u001b[0;32m      3\u001b[0m     \u001b[0mmodel\u001b[0m \u001b[1;33m=\u001b[0m \u001b[0mGaussianProcessClassifier\u001b[0m\u001b[1;33m(\u001b[0m\u001b[1;33m)\u001b[0m\u001b[1;33m\u001b[0m\u001b[1;33m\u001b[0m\u001b[0m\n\u001b[1;32m----> 4\u001b[1;33m     \u001b[0mmodel\u001b[0m\u001b[1;33m.\u001b[0m\u001b[0mfit\u001b[0m\u001b[1;33m(\u001b[0m\u001b[0mx_train\u001b[0m\u001b[1;33m,\u001b[0m \u001b[0my_train\u001b[0m\u001b[1;33m)\u001b[0m\u001b[1;33m\u001b[0m\u001b[1;33m\u001b[0m\u001b[0m\n\u001b[0m\u001b[0;32m      5\u001b[0m     \u001b[0my_predicted\u001b[0m \u001b[1;33m=\u001b[0m \u001b[0mmodel\u001b[0m\u001b[1;33m.\u001b[0m\u001b[0mpredict\u001b[0m\u001b[1;33m(\u001b[0m\u001b[0mx_test\u001b[0m\u001b[1;33m)\u001b[0m\u001b[1;33m\u001b[0m\u001b[1;33m\u001b[0m\u001b[0m\n\u001b[0;32m      6\u001b[0m     \u001b[0mprint\u001b[0m\u001b[1;33m(\u001b[0m\u001b[1;34m'Test:'\u001b[0m\u001b[1;33m)\u001b[0m\u001b[1;33m\u001b[0m\u001b[1;33m\u001b[0m\u001b[0m\n",
      "\u001b[1;32mD:\\Anaconda2\\lib\\site-packages\\sklearn\\gaussian_process\\gpc.py\u001b[0m in \u001b[0;36mfit\u001b[1;34m(self, X, y)\u001b[0m\n\u001b[0;32m    605\u001b[0m         \u001b[0mself\u001b[0m \u001b[1;33m:\u001b[0m \u001b[0mreturns\u001b[0m \u001b[0man\u001b[0m \u001b[0minstance\u001b[0m \u001b[0mof\u001b[0m \u001b[0mself\u001b[0m\u001b[1;33m.\u001b[0m\u001b[1;33m\u001b[0m\u001b[1;33m\u001b[0m\u001b[0m\n\u001b[0;32m    606\u001b[0m         \"\"\"\n\u001b[1;32m--> 607\u001b[1;33m         \u001b[0mX\u001b[0m\u001b[1;33m,\u001b[0m \u001b[0my\u001b[0m \u001b[1;33m=\u001b[0m \u001b[0mcheck_X_y\u001b[0m\u001b[1;33m(\u001b[0m\u001b[0mX\u001b[0m\u001b[1;33m,\u001b[0m \u001b[0my\u001b[0m\u001b[1;33m,\u001b[0m \u001b[0mmulti_output\u001b[0m\u001b[1;33m=\u001b[0m\u001b[1;32mFalse\u001b[0m\u001b[1;33m)\u001b[0m\u001b[1;33m\u001b[0m\u001b[1;33m\u001b[0m\u001b[0m\n\u001b[0m\u001b[0;32m    608\u001b[0m \u001b[1;33m\u001b[0m\u001b[0m\n\u001b[0;32m    609\u001b[0m         self.base_estimator_ = _BinaryGaussianProcessClassifierLaplace(\n",
      "\u001b[1;32mD:\\Anaconda2\\lib\\site-packages\\sklearn\\utils\\validation.py\u001b[0m in \u001b[0;36mcheck_X_y\u001b[1;34m(X, y, accept_sparse, accept_large_sparse, dtype, order, copy, force_all_finite, ensure_2d, allow_nd, multi_output, ensure_min_samples, ensure_min_features, y_numeric, warn_on_dtype, estimator)\u001b[0m\n\u001b[0;32m    759\u001b[0m                         dtype=None)\n\u001b[0;32m    760\u001b[0m     \u001b[1;32melse\u001b[0m\u001b[1;33m:\u001b[0m\u001b[1;33m\u001b[0m\u001b[1;33m\u001b[0m\u001b[0m\n\u001b[1;32m--> 761\u001b[1;33m         \u001b[0my\u001b[0m \u001b[1;33m=\u001b[0m \u001b[0mcolumn_or_1d\u001b[0m\u001b[1;33m(\u001b[0m\u001b[0my\u001b[0m\u001b[1;33m,\u001b[0m \u001b[0mwarn\u001b[0m\u001b[1;33m=\u001b[0m\u001b[1;32mTrue\u001b[0m\u001b[1;33m)\u001b[0m\u001b[1;33m\u001b[0m\u001b[1;33m\u001b[0m\u001b[0m\n\u001b[0m\u001b[0;32m    762\u001b[0m         \u001b[0m_assert_all_finite\u001b[0m\u001b[1;33m(\u001b[0m\u001b[0my\u001b[0m\u001b[1;33m)\u001b[0m\u001b[1;33m\u001b[0m\u001b[1;33m\u001b[0m\u001b[0m\n\u001b[0;32m    763\u001b[0m     \u001b[1;32mif\u001b[0m \u001b[0my_numeric\u001b[0m \u001b[1;32mand\u001b[0m \u001b[0my\u001b[0m\u001b[1;33m.\u001b[0m\u001b[0mdtype\u001b[0m\u001b[1;33m.\u001b[0m\u001b[0mkind\u001b[0m \u001b[1;33m==\u001b[0m \u001b[1;34m'O'\u001b[0m\u001b[1;33m:\u001b[0m\u001b[1;33m\u001b[0m\u001b[1;33m\u001b[0m\u001b[0m\n",
      "\u001b[1;32mD:\\Anaconda2\\lib\\site-packages\\sklearn\\utils\\validation.py\u001b[0m in \u001b[0;36mcolumn_or_1d\u001b[1;34m(y, warn)\u001b[0m\n\u001b[0;32m    795\u001b[0m         \u001b[1;32mreturn\u001b[0m \u001b[0mnp\u001b[0m\u001b[1;33m.\u001b[0m\u001b[0mravel\u001b[0m\u001b[1;33m(\u001b[0m\u001b[0my\u001b[0m\u001b[1;33m)\u001b[0m\u001b[1;33m\u001b[0m\u001b[1;33m\u001b[0m\u001b[0m\n\u001b[0;32m    796\u001b[0m \u001b[1;33m\u001b[0m\u001b[0m\n\u001b[1;32m--> 797\u001b[1;33m     \u001b[1;32mraise\u001b[0m \u001b[0mValueError\u001b[0m\u001b[1;33m(\u001b[0m\u001b[1;34m\"bad input shape {0}\"\u001b[0m\u001b[1;33m.\u001b[0m\u001b[0mformat\u001b[0m\u001b[1;33m(\u001b[0m\u001b[0mshape\u001b[0m\u001b[1;33m)\u001b[0m\u001b[1;33m)\u001b[0m\u001b[1;33m\u001b[0m\u001b[1;33m\u001b[0m\u001b[0m\n\u001b[0m\u001b[0;32m    798\u001b[0m \u001b[1;33m\u001b[0m\u001b[0m\n\u001b[0;32m    799\u001b[0m \u001b[1;33m\u001b[0m\u001b[0m\n",
      "\u001b[1;31mValueError\u001b[0m: bad input shape (1062, 10)"
     ]
    }
   ],
   "source": [
    "for i in range(5):\n",
    "    x_train, x_test, y_train, y_test = train_test_split(x_semeion, y_semeion, test_size=1/3, random_state=i)\n",
    "    model = GaussianProcessClassifier()\n",
    "    model.fit(x_train, y_train)\n",
    "    y_predicted = model.predict(x_test)\n",
    "    print('Test:')\n",
    "    print('Acuratete:', metrics.accuracy_score(y_test, y_predicted))\n",
    "    print('Train:')\n",
    "    y_predicted = model.predict(x_train)\n",
    "    print('Acuratete:', metrics.accuracy_score(y_train, y_predicted))"
   ]
  },
  {
   "cell_type": "code",
   "execution_count": 58,
   "metadata": {},
   "outputs": [
    {
     "name": "stdout",
     "output_type": "stream",
     "text": [
      "Test:\n",
      "Acuratete: 0.7175141242937854\n",
      "Train:\n",
      "Acuratete: 1.0\n",
      "Test:\n",
      "Acuratete: 0.7250470809792844\n",
      "Train:\n",
      "Acuratete: 1.0\n",
      "Test:\n",
      "Acuratete: 0.6986817325800376\n",
      "Train:\n",
      "Acuratete: 1.0\n",
      "Test:\n",
      "Acuratete: 0.7495291902071564\n",
      "Train:\n",
      "Acuratete: 1.0\n",
      "Test:\n",
      "Acuratete: 0.7344632768361582\n",
      "Train:\n",
      "Acuratete: 1.0\n"
     ]
    }
   ],
   "source": [
    "for i in range(5):\n",
    "    x_train, x_test, y_train, y_test = train_test_split(x_semeion, y_semeion, test_size=1/3, random_state=i)\n",
    "    model = DecisionTreeClassifier()\n",
    "    model.fit(x_train, y_train)\n",
    "    y_predicted = model.predict(x_test)\n",
    "    print('Test:')\n",
    "    print('Acuratete:', metrics.accuracy_score(y_test, y_predicted))\n",
    "    print('Train:')\n",
    "    y_predicted = model.predict(x_train)\n",
    "    print('Acuratete:', metrics.accuracy_score(y_train, y_predicted))"
   ]
  },
  {
   "cell_type": "code",
   "execution_count": 23,
   "metadata": {},
   "outputs": [
    {
     "name": "stdout",
     "output_type": "stream",
     "text": [
      "Test:\n",
      "Acuratete: 0.5988700564971752\n",
      "Train:\n",
      "Acuratete: 0.9717514124293786\n",
      "Test:\n",
      "Acuratete: 0.6271186440677966\n",
      "Train:\n",
      "Acuratete: 0.9736346516007532\n",
      "Test:\n",
      "Acuratete: 0.5951035781544256\n",
      "Train:\n",
      "Acuratete: 0.9745762711864406\n",
      "Test:\n",
      "Acuratete: 0.6252354048964218\n",
      "Train:\n",
      "Acuratete: 0.9670433145009416\n",
      "Test:\n",
      "Acuratete: 0.6101694915254238\n",
      "Train:\n",
      "Acuratete: 0.9736346516007532\n"
     ]
    }
   ],
   "source": [
    "for i in range(5):\n",
    "    x_train, x_test, y_train, y_test = train_test_split(x_semeion, y_semeion, test_size=1/3, random_state=i)\n",
    "    model = RandomForestClassifier()\n",
    "    model.fit(x_train, y_train)\n",
    "    y_predicted = model.predict(x_test)\n",
    "    print('Test:')\n",
    "    print('Acuratete:', metrics.accuracy_score(y_test, y_predicted))\n",
    "    print('Train:')\n",
    "    y_predicted = model.predict(x_train)\n",
    "    print('Acuratete:', metrics.accuracy_score(y_train, y_predicted))"
   ]
  },
  {
   "cell_type": "code",
   "execution_count": 21,
   "metadata": {},
   "outputs": [
    {
     "ename": "ValueError",
     "evalue": "bad input shape (1062, 10)",
     "output_type": "error",
     "traceback": [
      "\u001b[1;31m---------------------------------------------------------------------------\u001b[0m",
      "\u001b[1;31mValueError\u001b[0m                                Traceback (most recent call last)",
      "\u001b[1;32m<ipython-input-21-f0356b4651b7>\u001b[0m in \u001b[0;36m<module>\u001b[1;34m\u001b[0m\n\u001b[0;32m      2\u001b[0m     \u001b[0mx_train\u001b[0m\u001b[1;33m,\u001b[0m \u001b[0mx_test\u001b[0m\u001b[1;33m,\u001b[0m \u001b[0my_train\u001b[0m\u001b[1;33m,\u001b[0m \u001b[0my_test\u001b[0m \u001b[1;33m=\u001b[0m \u001b[0mtrain_test_split\u001b[0m\u001b[1;33m(\u001b[0m\u001b[0mx_semeion\u001b[0m\u001b[1;33m,\u001b[0m \u001b[0my_semeion\u001b[0m\u001b[1;33m,\u001b[0m \u001b[0mtest_size\u001b[0m\u001b[1;33m=\u001b[0m\u001b[1;36m1\u001b[0m\u001b[1;33m/\u001b[0m\u001b[1;36m3\u001b[0m\u001b[1;33m,\u001b[0m \u001b[0mrandom_state\u001b[0m\u001b[1;33m=\u001b[0m\u001b[0mi\u001b[0m\u001b[1;33m)\u001b[0m\u001b[1;33m\u001b[0m\u001b[1;33m\u001b[0m\u001b[0m\n\u001b[0;32m      3\u001b[0m     \u001b[0mmodel\u001b[0m \u001b[1;33m=\u001b[0m \u001b[0mGaussianNB\u001b[0m\u001b[1;33m(\u001b[0m\u001b[1;33m)\u001b[0m\u001b[1;33m\u001b[0m\u001b[1;33m\u001b[0m\u001b[0m\n\u001b[1;32m----> 4\u001b[1;33m     \u001b[0mmodel\u001b[0m\u001b[1;33m.\u001b[0m\u001b[0mfit\u001b[0m\u001b[1;33m(\u001b[0m\u001b[0mx_train\u001b[0m\u001b[1;33m,\u001b[0m \u001b[0my_train\u001b[0m\u001b[1;33m)\u001b[0m\u001b[1;33m\u001b[0m\u001b[1;33m\u001b[0m\u001b[0m\n\u001b[0m\u001b[0;32m      5\u001b[0m     \u001b[0my_predicted\u001b[0m \u001b[1;33m=\u001b[0m \u001b[0mmodel\u001b[0m\u001b[1;33m.\u001b[0m\u001b[0mpredict\u001b[0m\u001b[1;33m(\u001b[0m\u001b[0mx_test\u001b[0m\u001b[1;33m)\u001b[0m\u001b[1;33m\u001b[0m\u001b[1;33m\u001b[0m\u001b[0m\n\u001b[0;32m      6\u001b[0m     \u001b[0mprint\u001b[0m\u001b[1;33m(\u001b[0m\u001b[1;34m'Test:'\u001b[0m\u001b[1;33m)\u001b[0m\u001b[1;33m\u001b[0m\u001b[1;33m\u001b[0m\u001b[0m\n",
      "\u001b[1;32mD:\\Anaconda2\\lib\\site-packages\\sklearn\\naive_bayes.py\u001b[0m in \u001b[0;36mfit\u001b[1;34m(self, X, y, sample_weight)\u001b[0m\n\u001b[0;32m    188\u001b[0m         \u001b[0mself\u001b[0m \u001b[1;33m:\u001b[0m \u001b[0mobject\u001b[0m\u001b[1;33m\u001b[0m\u001b[1;33m\u001b[0m\u001b[0m\n\u001b[0;32m    189\u001b[0m         \"\"\"\n\u001b[1;32m--> 190\u001b[1;33m         \u001b[0mX\u001b[0m\u001b[1;33m,\u001b[0m \u001b[0my\u001b[0m \u001b[1;33m=\u001b[0m \u001b[0mcheck_X_y\u001b[0m\u001b[1;33m(\u001b[0m\u001b[0mX\u001b[0m\u001b[1;33m,\u001b[0m \u001b[0my\u001b[0m\u001b[1;33m)\u001b[0m\u001b[1;33m\u001b[0m\u001b[1;33m\u001b[0m\u001b[0m\n\u001b[0m\u001b[0;32m    191\u001b[0m         return self._partial_fit(X, y, np.unique(y), _refit=True,\n\u001b[0;32m    192\u001b[0m                                  sample_weight=sample_weight)\n",
      "\u001b[1;32mD:\\Anaconda2\\lib\\site-packages\\sklearn\\utils\\validation.py\u001b[0m in \u001b[0;36mcheck_X_y\u001b[1;34m(X, y, accept_sparse, accept_large_sparse, dtype, order, copy, force_all_finite, ensure_2d, allow_nd, multi_output, ensure_min_samples, ensure_min_features, y_numeric, warn_on_dtype, estimator)\u001b[0m\n\u001b[0;32m    759\u001b[0m                         dtype=None)\n\u001b[0;32m    760\u001b[0m     \u001b[1;32melse\u001b[0m\u001b[1;33m:\u001b[0m\u001b[1;33m\u001b[0m\u001b[1;33m\u001b[0m\u001b[0m\n\u001b[1;32m--> 761\u001b[1;33m         \u001b[0my\u001b[0m \u001b[1;33m=\u001b[0m \u001b[0mcolumn_or_1d\u001b[0m\u001b[1;33m(\u001b[0m\u001b[0my\u001b[0m\u001b[1;33m,\u001b[0m \u001b[0mwarn\u001b[0m\u001b[1;33m=\u001b[0m\u001b[1;32mTrue\u001b[0m\u001b[1;33m)\u001b[0m\u001b[1;33m\u001b[0m\u001b[1;33m\u001b[0m\u001b[0m\n\u001b[0m\u001b[0;32m    762\u001b[0m         \u001b[0m_assert_all_finite\u001b[0m\u001b[1;33m(\u001b[0m\u001b[0my\u001b[0m\u001b[1;33m)\u001b[0m\u001b[1;33m\u001b[0m\u001b[1;33m\u001b[0m\u001b[0m\n\u001b[0;32m    763\u001b[0m     \u001b[1;32mif\u001b[0m \u001b[0my_numeric\u001b[0m \u001b[1;32mand\u001b[0m \u001b[0my\u001b[0m\u001b[1;33m.\u001b[0m\u001b[0mdtype\u001b[0m\u001b[1;33m.\u001b[0m\u001b[0mkind\u001b[0m \u001b[1;33m==\u001b[0m \u001b[1;34m'O'\u001b[0m\u001b[1;33m:\u001b[0m\u001b[1;33m\u001b[0m\u001b[1;33m\u001b[0m\u001b[0m\n",
      "\u001b[1;32mD:\\Anaconda2\\lib\\site-packages\\sklearn\\utils\\validation.py\u001b[0m in \u001b[0;36mcolumn_or_1d\u001b[1;34m(y, warn)\u001b[0m\n\u001b[0;32m    795\u001b[0m         \u001b[1;32mreturn\u001b[0m \u001b[0mnp\u001b[0m\u001b[1;33m.\u001b[0m\u001b[0mravel\u001b[0m\u001b[1;33m(\u001b[0m\u001b[0my\u001b[0m\u001b[1;33m)\u001b[0m\u001b[1;33m\u001b[0m\u001b[1;33m\u001b[0m\u001b[0m\n\u001b[0;32m    796\u001b[0m \u001b[1;33m\u001b[0m\u001b[0m\n\u001b[1;32m--> 797\u001b[1;33m     \u001b[1;32mraise\u001b[0m \u001b[0mValueError\u001b[0m\u001b[1;33m(\u001b[0m\u001b[1;34m\"bad input shape {0}\"\u001b[0m\u001b[1;33m.\u001b[0m\u001b[0mformat\u001b[0m\u001b[1;33m(\u001b[0m\u001b[0mshape\u001b[0m\u001b[1;33m)\u001b[0m\u001b[1;33m)\u001b[0m\u001b[1;33m\u001b[0m\u001b[1;33m\u001b[0m\u001b[0m\n\u001b[0m\u001b[0;32m    798\u001b[0m \u001b[1;33m\u001b[0m\u001b[0m\n\u001b[0;32m    799\u001b[0m \u001b[1;33m\u001b[0m\u001b[0m\n",
      "\u001b[1;31mValueError\u001b[0m: bad input shape (1062, 10)"
     ]
    }
   ],
   "source": [
    "for i in range(5):\n",
    "    x_train, x_test, y_train, y_test = train_test_split(x_semeion, y_semeion, test_size=1/3, random_state=i)\n",
    "    model = GaussianNB()\n",
    "    model.fit(x_train, y_train)\n",
    "    y_predicted = model.predict(x_test)\n",
    "    print('Test:')\n",
    "    print('Acuratete:', metrics.accuracy_score(y_test, y_predicted))\n",
    "    print('Train:')\n",
    "    y_predicted = model.predict(x_train)\n",
    "    print('Acuratete:', metrics.accuracy_score(y_train, y_predicted))"
   ]
  },
  {
   "cell_type": "code",
   "execution_count": 20,
   "metadata": {},
   "outputs": [
    {
     "name": "stdout",
     "output_type": "stream",
     "text": [
      "Test:\n",
      "Acuratete: 0.9835082458770614\n",
      "Train:\n",
      "Acuratete: 0.9909977494373593\n",
      "Test:\n",
      "Acuratete: 0.9865067466266867\n",
      "Train:\n",
      "Acuratete: 0.9887471867966992\n",
      "Test:\n",
      "Acuratete: 0.9790104947526237\n",
      "Train:\n",
      "Acuratete: 0.9902475618904726\n",
      "Test:\n",
      "Acuratete: 0.9895052473763118\n",
      "Train:\n",
      "Acuratete: 0.986496624156039\n",
      "Test:\n",
      "Acuratete: 0.9835082458770614\n",
      "Train:\n",
      "Acuratete: 0.9849962490622656\n"
     ]
    }
   ],
   "source": [
    "#Wireless\n",
    "for i in range(5):\n",
    "    x_train, x_test, y_train, y_test = train_test_split(x_wireless, y_wireless, test_size=1/3, random_state=i)\n",
    "    model = KNeighborsClassifier()\n",
    "    model.fit(x_train, y_train)\n",
    "    y_predicted = model.predict(x_test)\n",
    "    print('Test:')\n",
    "    print('Acuratete:', metrics.accuracy_score(y_test, y_predicted))\n",
    "    print('Train:')\n",
    "    y_predicted = model.predict(x_train)\n",
    "    print('Acuratete:', metrics.accuracy_score(y_train, y_predicted))"
   ]
  },
  {
   "cell_type": "code",
   "execution_count": 19,
   "metadata": {},
   "outputs": [
    {
     "name": "stdout",
     "output_type": "stream",
     "text": [
      "Test:\n",
      "Acuratete: 0.974512743628186\n",
      "Train:\n",
      "Acuratete: 0.9707426856714179\n",
      "Test:\n",
      "Acuratete: 0.9790104947526237\n",
      "Train:\n",
      "Acuratete: 0.978244561140285\n",
      "Test:\n",
      "Acuratete: 0.9715142428785607\n",
      "Train:\n",
      "Acuratete: 0.9804951237809453\n",
      "Test:\n",
      "Acuratete: 0.9910044977511244\n",
      "Train:\n",
      "Acuratete: 0.9737434358589647\n",
      "Test:\n",
      "Acuratete: 0.9775112443778111\n",
      "Train:\n",
      "Acuratete: 0.9774943735933983\n"
     ]
    }
   ],
   "source": [
    "for i in range(5):\n",
    "    x_train, x_test, y_train, y_test = train_test_split(x_wireless, y_wireless, test_size=1/3, random_state=i)\n",
    "    model = MLPClassifier()\n",
    "    model.fit(x_train, y_train)\n",
    "    y_predicted = model.predict(x_test)\n",
    "    print('Test:')\n",
    "    print('Acuratete:', metrics.accuracy_score(y_test, y_predicted))\n",
    "    print('Train:')\n",
    "    y_predicted = model.predict(x_train)\n",
    "    print('Acuratete:', metrics.accuracy_score(y_train, y_predicted))"
   ]
  },
  {
   "cell_type": "code",
   "execution_count": 18,
   "metadata": {},
   "outputs": [
    {
     "name": "stdout",
     "output_type": "stream",
     "text": [
      "Test:\n",
      "Acuratete: 0.7796101949025487\n",
      "Train:\n",
      "Acuratete: 1.0\n",
      "Test:\n",
      "Acuratete: 0.782608695652174\n",
      "Train:\n",
      "Acuratete: 1.0\n",
      "Test:\n",
      "Acuratete: 0.7496251874062968\n",
      "Train:\n",
      "Acuratete: 1.0\n",
      "Test:\n",
      "Acuratete: 0.7061469265367316\n",
      "Train:\n",
      "Acuratete: 1.0\n",
      "Test:\n",
      "Acuratete: 0.7736131934032984\n",
      "Train:\n",
      "Acuratete: 1.0\n"
     ]
    }
   ],
   "source": [
    "for i in range(5):\n",
    "    x_train, x_test, y_train, y_test = train_test_split(x_wireless, y_wireless, test_size=1/3, random_state=i)\n",
    "    model = SVC()\n",
    "    model.fit(x_train, y_train)\n",
    "    y_predicted = model.predict(x_test)\n",
    "    print('Test:')\n",
    "    print('Acuratete:', metrics.accuracy_score(y_test, y_predicted))\n",
    "    print('Train:')\n",
    "    y_predicted = model.predict(x_train)\n",
    "    print('Acuratete:', metrics.accuracy_score(y_train, y_predicted))"
   ]
  },
  {
   "cell_type": "code",
   "execution_count": 17,
   "metadata": {},
   "outputs": [
    {
     "name": "stdout",
     "output_type": "stream",
     "text": [
      "Test:\n",
      "Acuratete: 0.9625187406296851\n",
      "Train:\n",
      "Acuratete: 1.0\n",
      "Test:\n",
      "Acuratete: 0.9625187406296851\n",
      "Train:\n",
      "Acuratete: 1.0\n",
      "Test:\n",
      "Acuratete: 0.9640179910044977\n",
      "Train:\n",
      "Acuratete: 1.0\n",
      "Test:\n",
      "Acuratete: 0.9685157421289355\n",
      "Train:\n",
      "Acuratete: 1.0\n",
      "Test:\n",
      "Acuratete: 0.9700149925037481\n",
      "Train:\n",
      "Acuratete: 1.0\n"
     ]
    }
   ],
   "source": [
    "for i in range(5):\n",
    "    x_train, x_test, y_train, y_test = train_test_split(x_wireless, y_wireless, test_size=1/3, random_state=i)\n",
    "    model = GaussianProcessClassifier()\n",
    "    model.fit(x_train, y_train)\n",
    "    y_predicted = model.predict(x_test)\n",
    "    print('Test:')\n",
    "    print('Acuratete:', metrics.accuracy_score(y_test, y_predicted))\n",
    "    print('Train:')\n",
    "    y_predicted = model.predict(x_train)\n",
    "    print('Acuratete:', metrics.accuracy_score(y_train, y_predicted))"
   ]
  },
  {
   "cell_type": "code",
   "execution_count": 9,
   "metadata": {},
   "outputs": [
    {
     "name": "stdout",
     "output_type": "stream",
     "text": [
      "Test:\n",
      "Acuratete: 0.9685157421289355\n",
      "Train:\n",
      "Acuratete: 1.0\n",
      "Test:\n",
      "Acuratete: 0.9550224887556222\n",
      "Train:\n",
      "Acuratete: 1.0\n",
      "Test:\n",
      "Acuratete: 0.9775112443778111\n",
      "Train:\n",
      "Acuratete: 1.0\n",
      "Test:\n",
      "Acuratete: 0.9700149925037481\n",
      "Train:\n",
      "Acuratete: 1.0\n",
      "Test:\n",
      "Acuratete: 0.9730134932533733\n",
      "Train:\n",
      "Acuratete: 1.0\n"
     ]
    }
   ],
   "source": [
    "for i in range(5):\n",
    "    x_train, x_test, y_train, y_test = train_test_split(x_wireless, y_wireless, test_size=1/3, random_state=i)\n",
    "    model = DecisionTreeClassifier()\n",
    "    model.fit(x_train, y_train)\n",
    "    y_predicted = model.predict(x_test)\n",
    "    print('Test:')\n",
    "    print('Acuratete:', metrics.accuracy_score(y_test, y_predicted))\n",
    "    print('Train:')\n",
    "    y_predicted = model.predict(x_train)\n",
    "    print('Acuratete:', metrics.accuracy_score(y_train, y_predicted))"
   ]
  },
  {
   "cell_type": "code",
   "execution_count": 16,
   "metadata": {},
   "outputs": [
    {
     "name": "stdout",
     "output_type": "stream",
     "text": [
      "Test:\n",
      "Acuratete: 0.9805097451274363\n",
      "Train:\n",
      "Acuratete: 0.9984996249062266\n",
      "Test:\n",
      "Acuratete: 0.9760119940029985\n",
      "Train:\n",
      "Acuratete: 1.0\n",
      "Test:\n",
      "Acuratete: 0.974512743628186\n",
      "Train:\n",
      "Acuratete: 0.9992498124531133\n",
      "Test:\n",
      "Acuratete: 0.9895052473763118\n",
      "Train:\n",
      "Acuratete: 0.9984996249062266\n",
      "Test:\n",
      "Acuratete: 0.9685157421289355\n",
      "Train:\n",
      "Acuratete: 0.9984996249062266\n"
     ]
    }
   ],
   "source": [
    "for i in range(5):\n",
    "    x_train, x_test, y_train, y_test = train_test_split(x_wireless, y_wireless, test_size=1/3, random_state=i)\n",
    "    model = RandomForestClassifier()\n",
    "    model.fit(x_train, y_train)\n",
    "    y_predicted = model.predict(x_test)\n",
    "    print('Test:')\n",
    "    print('Acuratete:', metrics.accuracy_score(y_test, y_predicted))\n",
    "    print('Train:')\n",
    "    y_predicted = model.predict(x_train)\n",
    "    print('Acuratete:', metrics.accuracy_score(y_train, y_predicted))"
   ]
  },
  {
   "cell_type": "code",
   "execution_count": 28,
   "metadata": {},
   "outputs": [
    {
     "name": "stdout",
     "output_type": "stream",
     "text": [
      "Test:\n",
      "Acuratete: 0.9820089955022488\n",
      "Train:\n",
      "Acuratete: 0.9827456864216054\n",
      "Test:\n",
      "Acuratete: 0.9805097451274363\n",
      "Train:\n",
      "Acuratete: 0.9827456864216054\n",
      "Test:\n",
      "Acuratete: 0.9805097451274363\n",
      "Train:\n",
      "Acuratete: 0.9857464366091523\n",
      "Test:\n",
      "Acuratete: 0.992503748125937\n",
      "Train:\n",
      "Acuratete: 0.9797449362340586\n",
      "Test:\n",
      "Acuratete: 0.9835082458770614\n",
      "Train:\n",
      "Acuratete: 0.9827456864216054\n"
     ]
    }
   ],
   "source": [
    "for i in range(5):\n",
    "    x_train, x_test, y_train, y_test = train_test_split(x_wireless, y_wireless, test_size=1/3, random_state=i)\n",
    "    model = GaussianNB()\n",
    "    model.fit(x_train, y_train)\n",
    "    y_predicted = model.predict(x_test)\n",
    "    print('Test:')\n",
    "    print('Acuratete:', metrics.accuracy_score(y_test, y_predicted))\n",
    "    print('Train:')\n",
    "    y_predicted = model.predict(x_train)\n",
    "    print('Acuratete:', metrics.accuracy_score(y_train, y_predicted))"
   ]
  },
  {
   "cell_type": "code",
   "execution_count": 55,
   "metadata": {},
   "outputs": [
    {
     "name": "stdout",
     "output_type": "stream",
     "text": [
      "Test:\n",
      "Acuratete: 0.8005215123859192\n",
      "Train:\n",
      "Acuratete: 0.8607760026084121\n",
      "Test:\n",
      "Acuratete: 0.8063885267275098\n",
      "Train:\n",
      "Acuratete: 0.8633844147375286\n",
      "Test:\n",
      "Acuratete: 0.8037809647979139\n",
      "Train:\n",
      "Acuratete: 0.8633844147375286\n",
      "Test:\n",
      "Acuratete: 0.7992177314211213\n",
      "Train:\n",
      "Acuratete: 0.863058363221389\n",
      "Test:\n",
      "Acuratete: 0.7842242503259452\n",
      "Train:\n",
      "Acuratete: 0.8659928268666449\n"
     ]
    }
   ],
   "source": [
    "#Spambase\n",
    "for i in range(5):\n",
    "    x_train, x_test, y_train, y_test = train_test_split(x_spambase, y_spambase, test_size=1/3, random_state=i)\n",
    "    model = KNeighborsClassifier()\n",
    "    model.fit(x_train, y_train)\n",
    "    y_predicted = model.predict(x_test)\n",
    "    print('Test:')\n",
    "    print('Acuratete:', metrics.accuracy_score(y_test, y_predicted))\n",
    "    print('Train:')\n",
    "    y_predicted = model.predict(x_train)\n",
    "    print('Acuratete:', metrics.accuracy_score(y_train, y_predicted))"
   ]
  },
  {
   "cell_type": "code",
   "execution_count": 56,
   "metadata": {},
   "outputs": [
    {
     "name": "stdout",
     "output_type": "stream",
     "text": [
      "Test:\n",
      "Acuratete: 0.9322033898305084\n",
      "Train:\n",
      "Acuratete: 0.9445712422562765\n",
      "Test:\n",
      "Acuratete: 0.9387222946544981\n",
      "Train:\n",
      "Acuratete: 0.9468536028692534\n",
      "Test:\n",
      "Acuratete: 0.9080834419817471\n",
      "Train:\n",
      "Acuratete: 0.9220736876426475\n",
      "Test:\n",
      "Acuratete: 0.9198174706649282\n",
      "Train:\n",
      "Acuratete: 0.9276165634170199\n",
      "Test:\n",
      "Acuratete: 0.910039113428944\n",
      "Train:\n",
      "Acuratete: 0.9044669057711119\n"
     ]
    }
   ],
   "source": [
    "for i in range(5):\n",
    "    x_train, x_test, y_train, y_test = train_test_split(x_spambase, y_spambase, test_size=1/3, random_state=i)\n",
    "    model = MLPClassifier()\n",
    "    model.fit(x_train, y_train)\n",
    "    y_predicted = model.predict(x_test)\n",
    "    print('Test:')\n",
    "    print('Acuratete:', metrics.accuracy_score(y_test, y_predicted))\n",
    "    print('Train:')\n",
    "    y_predicted = model.predict(x_train)\n",
    "    print('Acuratete:', metrics.accuracy_score(y_train, y_predicted))"
   ]
  },
  {
   "cell_type": "code",
   "execution_count": 57,
   "metadata": {},
   "outputs": [
    {
     "name": "stdout",
     "output_type": "stream",
     "text": [
      "Test:\n",
      "Acuratete: 0.833767926988266\n",
      "Train:\n",
      "Acuratete: 0.9452233452885556\n",
      "Test:\n",
      "Acuratete: 0.8252933507170795\n",
      "Train:\n",
      "Acuratete: 0.9465275513531138\n",
      "Test:\n",
      "Acuratete: 0.8161668839634941\n",
      "Train:\n",
      "Acuratete: 0.9471796543853929\n",
      "Test:\n",
      "Acuratete: 0.8363754889178618\n",
      "Train:\n",
      "Acuratete: 0.9484838604499511\n",
      "Test:\n",
      "Acuratete: 0.8246414602346805\n",
      "Train:\n",
      "Acuratete: 0.9426149331594392\n"
     ]
    }
   ],
   "source": [
    "for i in range(5):\n",
    "    x_train, x_test, y_train, y_test = train_test_split(x_spambase, y_spambase, test_size=1/3, random_state=i)\n",
    "    model = SVC()\n",
    "    model.fit(x_train, y_train)\n",
    "    y_predicted = model.predict(x_test)\n",
    "    print('Test:')\n",
    "    print('Acuratete:', metrics.accuracy_score(y_test, y_predicted))\n",
    "    print('Train:')\n",
    "    y_predicted = model.predict(x_train)\n",
    "    print('Acuratete:', metrics.accuracy_score(y_train, y_predicted))"
   ]
  },
  {
   "cell_type": "code",
   "execution_count": 58,
   "metadata": {},
   "outputs": [
    {
     "name": "stdout",
     "output_type": "stream",
     "text": [
      "Test:\n",
      "Acuratete: 0.8076923076923077\n",
      "Train:\n",
      "Acuratete: 1.0\n",
      "Test:\n",
      "Acuratete: 0.7926988265971316\n",
      "Train:\n",
      "Acuratete: 0.9986957939354418\n",
      "Test:\n",
      "Acuratete: 0.7953063885267275\n",
      "Train:\n",
      "Acuratete: 0.9990218454515813\n",
      "Test:\n",
      "Acuratete: 0.8129074315514994\n",
      "Train:\n",
      "Acuratete: 0.9990218454515813\n",
      "Test:\n",
      "Acuratete: 0.7946544980443285\n",
      "Train:\n",
      "Acuratete: 0.9990218454515813\n"
     ]
    }
   ],
   "source": [
    "for i in range(5):\n",
    "    x_train, x_test, y_train, y_test = train_test_split(x_spambase, y_spambase, test_size=1/3, random_state=i)\n",
    "    model = GaussianProcessClassifier()\n",
    "    model.fit(x_train, y_train)\n",
    "    y_predicted = model.predict(x_test)\n",
    "    print('Test:')\n",
    "    print('Acuratete:', metrics.accuracy_score(y_test, y_predicted))\n",
    "    print('Train:')\n",
    "    y_predicted = model.predict(x_train)\n",
    "    print('Acuratete:', metrics.accuracy_score(y_train, y_predicted))"
   ]
  },
  {
   "cell_type": "code",
   "execution_count": 59,
   "metadata": {},
   "outputs": [
    {
     "name": "stdout",
     "output_type": "stream",
     "text": [
      "Test:\n",
      "Acuratete: 0.8976531942633638\n",
      "Train:\n",
      "Acuratete: 1.0\n",
      "Test:\n",
      "Acuratete: 0.9113428943937418\n",
      "Train:\n",
      "Acuratete: 0.9996739484838605\n",
      "Test:\n",
      "Acuratete: 0.9152542372881356\n",
      "Train:\n",
      "Acuratete: 0.9993478969677209\n",
      "Test:\n",
      "Acuratete: 0.9159061277705346\n",
      "Train:\n",
      "Acuratete: 0.9996739484838605\n",
      "Test:\n",
      "Acuratete: 0.9113428943937418\n",
      "Train:\n",
      "Acuratete: 0.9993478969677209\n"
     ]
    }
   ],
   "source": [
    "for i in range(5):\n",
    "    x_train, x_test, y_train, y_test = train_test_split(x_spambase, y_spambase, test_size=1/3, random_state=i)\n",
    "    model = DecisionTreeClassifier()\n",
    "    model.fit(x_train, y_train)\n",
    "    y_predicted = model.predict(x_test)\n",
    "    print('Test:')\n",
    "    print('Acuratete:', metrics.accuracy_score(y_test, y_predicted))\n",
    "    print('Train:')\n",
    "    y_predicted = model.predict(x_train)\n",
    "    print('Acuratete:', metrics.accuracy_score(y_train, y_predicted))"
   ]
  },
  {
   "cell_type": "code",
   "execution_count": 60,
   "metadata": {},
   "outputs": [
    {
     "name": "stdout",
     "output_type": "stream",
     "text": [
      "Test:\n",
      "Acuratete: 0.9387222946544981\n",
      "Train:\n",
      "Acuratete: 0.9957613302901859\n",
      "Test:\n",
      "Acuratete: 0.9432855280312907\n",
      "Train:\n",
      "Acuratete: 0.9925008151287904\n",
      "Test:\n",
      "Acuratete: 0.9478487614080835\n",
      "Train:\n",
      "Acuratete: 0.9964134333224649\n",
      "Test:\n",
      "Acuratete: 0.9485006518904824\n",
      "Train:\n",
      "Acuratete: 0.9951092272579067\n",
      "Test:\n",
      "Acuratete: 0.9380704041720991\n",
      "Train:\n",
      "Acuratete: 0.9973915878708836\n"
     ]
    }
   ],
   "source": [
    "for i in range(5):\n",
    "    x_train, x_test, y_train, y_test = train_test_split(x_spambase, y_spambase, test_size=1/3, random_state=i)\n",
    "    model = RandomForestClassifier()\n",
    "    model.fit(x_train, y_train)\n",
    "    y_predicted = model.predict(x_test)\n",
    "    print('Test:')\n",
    "    print('Acuratete:', metrics.accuracy_score(y_test, y_predicted))\n",
    "    print('Train:')\n",
    "    y_predicted = model.predict(x_train)\n",
    "    print('Acuratete:', metrics.accuracy_score(y_train, y_predicted))"
   ]
  },
  {
   "cell_type": "code",
   "execution_count": 61,
   "metadata": {},
   "outputs": [
    {
     "name": "stdout",
     "output_type": "stream",
     "text": [
      "Test:\n",
      "Acuratete: 0.818122555410691\n",
      "Train:\n",
      "Acuratete: 0.8327355722204108\n",
      "Test:\n",
      "Acuratete: 0.8226857887874837\n",
      "Train:\n",
      "Acuratete: 0.8216498206716661\n",
      "Test:\n",
      "Acuratete: 0.8213820078226858\n",
      "Train:\n",
      "Acuratete: 0.8131724812520378\n",
      "Test:\n",
      "Acuratete: 0.8129074315514994\n",
      "Train:\n",
      "Acuratete: 0.8249103358330616\n",
      "Test:\n",
      "Acuratete: 0.8220338983050848\n",
      "Train:\n",
      "Acuratete: 0.8196935115748288\n"
     ]
    }
   ],
   "source": [
    "for i in range(5):\n",
    "    x_train, x_test, y_train, y_test = train_test_split(x_spambase, y_spambase, test_size=1/3, random_state=i)\n",
    "    model = GaussianNB()\n",
    "    model.fit(x_train, y_train)\n",
    "    y_predicted = model.predict(x_test)\n",
    "    print('Test:')\n",
    "    print('Acuratete:', metrics.accuracy_score(y_test, y_predicted))\n",
    "    print('Train:')\n",
    "    y_predicted = model.predict(x_train)\n",
    "    print('Acuratete:', metrics.accuracy_score(y_train, y_predicted))"
   ]
  },
  {
   "cell_type": "code",
   "execution_count": 65,
   "metadata": {},
   "outputs": [
    {
     "name": "stdout",
     "output_type": "stream",
     "text": [
      "Test:\n",
      "Acuratete: 0.7553619302949062\n",
      "Train:\n",
      "Acuratete: 0.9583725305738476\n",
      "Test:\n",
      "Acuratete: 0.7553619302949062\n",
      "Train:\n",
      "Acuratete: 0.9583725305738476\n",
      "Test:\n",
      "Acuratete: 0.7553619302949062\n",
      "Train:\n",
      "Acuratete: 0.9583725305738476\n",
      "Test:\n",
      "Acuratete: 0.7553619302949062\n",
      "Train:\n",
      "Acuratete: 0.9583725305738476\n",
      "Test:\n",
      "Acuratete: 0.7553619302949062\n",
      "Train:\n",
      "Acuratete: 0.9583725305738476\n"
     ]
    }
   ],
   "source": [
    "#Smartphone\n",
    "for i in range(5):\n",
    "    model = KNeighborsClassifier()\n",
    "    model.fit(x_train_smartphone, y_train_smartphone)\n",
    "    y_predicted = model.predict(x_test_smartphone)\n",
    "    print('Test:')\n",
    "    print('Acuratete:', metrics.accuracy_score(y_test_smartphone, y_predicted))\n",
    "    print('Train:')\n",
    "    y_predicted = model.predict(x_train_smartphone)\n",
    "    print('Acuratete:', metrics.accuracy_score(y_train_smartphone, y_predicted))"
   ]
  },
  {
   "cell_type": "code",
   "execution_count": 67,
   "metadata": {},
   "outputs": [
    {
     "name": "stdout",
     "output_type": "stream",
     "text": [
      "Test:\n",
      "Acuratete: 0.8579088471849866\n",
      "Train:\n",
      "Acuratete: 1.0\n",
      "Test:\n",
      "Acuratete: 0.863941018766756\n",
      "Train:\n",
      "Acuratete: 0.9976481655691439\n",
      "Test:\n",
      "Acuratete: 0.8679624664879356\n",
      "Train:\n",
      "Acuratete: 1.0\n",
      "Test:\n",
      "Acuratete: 0.8565683646112601\n",
      "Train:\n",
      "Acuratete: 1.0\n",
      "Test:\n",
      "Acuratete: 0.853887399463807\n",
      "Train:\n",
      "Acuratete: 0.9997648165569144\n"
     ]
    }
   ],
   "source": [
    "for i in range(5):\n",
    "    model = MLPClassifier()\n",
    "    model.fit(x_train_smartphone, y_train_smartphone)\n",
    "    y_predicted = model.predict(x_test_smartphone)\n",
    "    print('Test:')\n",
    "    print('Acuratete:', metrics.accuracy_score(y_test_smartphone, y_predicted))\n",
    "    print('Train:')\n",
    "    y_predicted = model.predict(x_train_smartphone)\n",
    "    print('Acuratete:', metrics.accuracy_score(y_train_smartphone, y_predicted))"
   ]
  },
  {
   "cell_type": "code",
   "execution_count": 68,
   "metadata": {},
   "outputs": [
    {
     "name": "stdout",
     "output_type": "stream",
     "text": [
      "Test:\n",
      "Acuratete: 0.8063002680965148\n",
      "Train:\n",
      "Acuratete: 0.8330197554092192\n",
      "Test:\n",
      "Acuratete: 0.8063002680965148\n",
      "Train:\n",
      "Acuratete: 0.8330197554092192\n",
      "Test:\n",
      "Acuratete: 0.8063002680965148\n",
      "Train:\n",
      "Acuratete: 0.8330197554092192\n",
      "Test:\n",
      "Acuratete: 0.8063002680965148\n",
      "Train:\n",
      "Acuratete: 0.8330197554092192\n",
      "Test:\n",
      "Acuratete: 0.8063002680965148\n",
      "Train:\n",
      "Acuratete: 0.8330197554092192\n"
     ]
    }
   ],
   "source": [
    "for i in range(5):\n",
    "    model = SVC()\n",
    "    model.fit(x_train_smartphone, y_train_smartphone)\n",
    "    y_predicted = model.predict(x_test_smartphone)\n",
    "    print('Test:')\n",
    "    print('Acuratete:', metrics.accuracy_score(y_test_smartphone, y_predicted))\n",
    "    print('Train:')\n",
    "    y_predicted = model.predict(x_train_smartphone)\n",
    "    print('Acuratete:', metrics.accuracy_score(y_train_smartphone, y_predicted))"
   ]
  },
  {
   "cell_type": "code",
   "execution_count": null,
   "metadata": {},
   "outputs": [],
   "source": [
    "for i in range(5):\n",
    "    model = GaussianProcessClassifier()\n",
    "    model.fit(x_train_smartphone, y_train_smartphone)\n",
    "    y_predicted = model.predict(x_test_smartphone)\n",
    "    print('Test:')\n",
    "    print('Acuratete:', metrics.accuracy_score(y_test_smartphone, y_predicted))\n",
    "    print('Train:')\n",
    "    y_predicted = model.predict(x_train_smartphone)\n",
    "    print('Acuratete:', metrics.accuracy_score(y_train_smartphone, y_predicted))"
   ]
  },
  {
   "cell_type": "code",
   "execution_count": 5,
   "metadata": {},
   "outputs": [
    {
     "name": "stdout",
     "output_type": "stream",
     "text": [
      "Test:\n",
      "Acuratete: 0.8056300268096515\n",
      "Train:\n",
      "Acuratete: 1.0\n",
      "Test:\n",
      "Acuratete: 0.806970509383378\n",
      "Train:\n",
      "Acuratete: 1.0\n",
      "Test:\n",
      "Acuratete: 0.782171581769437\n",
      "Train:\n",
      "Acuratete: 1.0\n",
      "Test:\n",
      "Acuratete: 0.8063002680965148\n",
      "Train:\n",
      "Acuratete: 1.0\n",
      "Test:\n",
      "Acuratete: 0.7995978552278821\n",
      "Train:\n",
      "Acuratete: 1.0\n"
     ]
    }
   ],
   "source": [
    "for i in range(5):\n",
    "    model = DecisionTreeClassifier()\n",
    "    model.fit(x_train_smartphone, y_train_smartphone)\n",
    "    y_predicted = model.predict(x_test_smartphone)\n",
    "    print('Test:')\n",
    "    print('Acuratete:', metrics.accuracy_score(y_test_smartphone, y_predicted))\n",
    "    print('Train:')\n",
    "    y_predicted = model.predict(x_train_smartphone)\n",
    "    print('Acuratete:', metrics.accuracy_score(y_train_smartphone, y_predicted))"
   ]
  },
  {
   "cell_type": "code",
   "execution_count": 4,
   "metadata": {},
   "outputs": [
    {
     "name": "stdout",
     "output_type": "stream",
     "text": [
      "Test:\n",
      "Acuratete: 0.853887399463807\n",
      "Train:\n",
      "Acuratete: 0.9983537158984007\n",
      "Test:\n",
      "Acuratete: 0.8512064343163539\n",
      "Train:\n",
      "Acuratete: 0.996472248353716\n",
      "Test:\n",
      "Acuratete: 0.8331099195710456\n",
      "Train:\n",
      "Acuratete: 0.9974129821260583\n",
      "Test:\n",
      "Acuratete: 0.8371313672922251\n",
      "Train:\n",
      "Acuratete: 0.9983537158984007\n",
      "Test:\n",
      "Acuratete: 0.8163538873994638\n",
      "Train:\n",
      "Acuratete: 0.9978833490122295\n"
     ]
    }
   ],
   "source": [
    "for i in range(5):\n",
    "    model = RandomForestClassifier()\n",
    "    model.fit(x_train_smartphone, y_train_smartphone)\n",
    "    y_predicted = model.predict(x_test_smartphone)\n",
    "    print('Test:')\n",
    "    print('Acuratete:', metrics.accuracy_score(y_test_smartphone, y_predicted))\n",
    "    print('Train:')\n",
    "    y_predicted = model.predict(x_train_smartphone)\n",
    "    print('Acuratete:', metrics.accuracy_score(y_train_smartphone, y_predicted))"
   ]
  },
  {
   "cell_type": "code",
   "execution_count": 3,
   "metadata": {},
   "outputs": [
    {
     "name": "stdout",
     "output_type": "stream",
     "text": [
      "Test:\n",
      "Acuratete: 0.6132707774798928\n",
      "Train:\n",
      "Acuratete: 0.5928974600188147\n",
      "Test:\n",
      "Acuratete: 0.6132707774798928\n",
      "Train:\n",
      "Acuratete: 0.5928974600188147\n",
      "Test:\n",
      "Acuratete: 0.6132707774798928\n",
      "Train:\n",
      "Acuratete: 0.5928974600188147\n",
      "Test:\n",
      "Acuratete: 0.6132707774798928\n",
      "Train:\n",
      "Acuratete: 0.5928974600188147\n",
      "Test:\n",
      "Acuratete: 0.6132707774798928\n",
      "Train:\n",
      "Acuratete: 0.5928974600188147\n"
     ]
    }
   ],
   "source": [
    "for i in range(5):\n",
    "    model = GaussianNB()\n",
    "    model.fit(x_train_smartphone, y_train_smartphone)\n",
    "    y_predicted = model.predict(x_test_smartphone)\n",
    "    print('Test:')\n",
    "    print('Acuratete:', metrics.accuracy_score(y_test_smartphone, y_predicted))\n",
    "    print('Train:')\n",
    "    y_predicted = model.predict(x_train_smartphone)\n",
    "    print('Acuratete:', metrics.accuracy_score(y_train_smartphone, y_predicted))"
   ]
  },
  {
   "cell_type": "code",
   "execution_count": null,
   "metadata": {},
   "outputs": [],
   "source": [
    "#Wine\n",
    "for i in range(5):\n",
    "    x_train, x_test, y_train, y_test = train_test_split(x_wine, y_wine, test_size=1/3, random_state=i)\n",
    "    model = KNeighborsClassifier()\n",
    "    model.fit(x_train, y_train)\n",
    "    y_predicted = model.predict(x_test)\n",
    "    print('Test:')\n",
    "    print('Acuratete:', metrics.accuracy_score(y_test, y_predicted))\n",
    "    print('Train:')\n",
    "    y_predicted = model.predict(x_train)\n",
    "    print('Acuratete:', metrics.accuracy_score(y_train, y_predicted))"
   ]
  },
  {
   "cell_type": "code",
   "execution_count": null,
   "metadata": {},
   "outputs": [],
   "source": [
    "for i in range(5):\n",
    "    x_train, x_test, y_train, y_test = train_test_split(x_wine, y_wine, test_size=1/3, random_state=i)\n",
    "    model = MLPClassifier()\n",
    "    model.fit(x_train, y_train)\n",
    "    y_predicted = model.predict(x_test)\n",
    "    print('Test:')\n",
    "    print('Acuratete:', metrics.accuracy_score(y_test, y_predicted))\n",
    "    print('Train:')\n",
    "    y_predicted = model.predict(x_train)\n",
    "    print('Acuratete:', metrics.accuracy_score(y_train, y_predicted))"
   ]
  },
  {
   "cell_type": "code",
   "execution_count": null,
   "metadata": {},
   "outputs": [],
   "source": [
    "for i in range(5):\n",
    "    x_train, x_test, y_train, y_test = train_test_split(x_wine, y_wine, test_size=1/3, random_state=i)\n",
    "    model = SVC()\n",
    "    model.fit(x_train, y_train)\n",
    "    y_predicted = model.predict(x_test)\n",
    "    print('Test:')\n",
    "    print('Acuratete:', metrics.accuracy_score(y_test, y_predicted))\n",
    "    print('Train:')\n",
    "    y_predicted = model.predict(x_train)\n",
    "    print('Acuratete:', metrics.accuracy_score(y_train, y_predicted))"
   ]
  },
  {
   "cell_type": "code",
   "execution_count": null,
   "metadata": {},
   "outputs": [],
   "source": [
    "for i in range(5):\n",
    "    x_train, x_test, y_train, y_test = train_test_split(x_wine, y_wine, test_size=1/3, random_state=i)\n",
    "    model = GaussianProcessClassifier()\n",
    "    model.fit(x_train, y_train)\n",
    "    y_predicted = model.predict(x_test)\n",
    "    print('Test:')\n",
    "    print('Acuratete:', metrics.accuracy_score(y_test, y_predicted))\n",
    "    print('Train:')\n",
    "    y_predicted = model.predict(x_train)\n",
    "    print('Acuratete:', metrics.accuracy_score(y_train, y_predicted))"
   ]
  },
  {
   "cell_type": "code",
   "execution_count": 3,
   "metadata": {},
   "outputs": [
    {
     "name": "stdout",
     "output_type": "stream",
     "text": [
      "Test:\n",
      "Acuratete: 0.016666666666666666\n",
      "Train:\n",
      "Acuratete: 1.0\n",
      "Test:\n",
      "Acuratete: 0.0\n",
      "Train:\n",
      "Acuratete: 1.0\n",
      "Test:\n",
      "Acuratete: 0.0\n",
      "Train:\n",
      "Acuratete: 1.0\n",
      "Test:\n",
      "Acuratete: 0.03333333333333333\n",
      "Train:\n",
      "Acuratete: 1.0\n",
      "Test:\n",
      "Acuratete: 0.05\n",
      "Train:\n",
      "Acuratete: 1.0\n"
     ]
    }
   ],
   "source": [
    "for i in range(5):\n",
    "    x_train, x_test, y_train, y_test = train_test_split(x_wine, y_wine, test_size=1/3, random_state=i)\n",
    "    model = DecisionTreeClassifier()\n",
    "    model.fit(x_train, y_train)\n",
    "    y_predicted = model.predict(x_test)\n",
    "    print('Test:')\n",
    "    print('Acuratete:', metrics.accuracy_score(y_test, y_predicted))\n",
    "    print('Train:')\n",
    "    y_predicted = model.predict(x_train)\n",
    "    print('Acuratete:', metrics.accuracy_score(y_train, y_predicted))"
   ]
  },
  {
   "cell_type": "code",
   "execution_count": 4,
   "metadata": {},
   "outputs": [
    {
     "name": "stdout",
     "output_type": "stream",
     "text": [
      "Test:\n",
      "Acuratete: 0.0\n",
      "Train:\n",
      "Acuratete: 0.9915254237288136\n",
      "Test:\n",
      "Acuratete: 0.0\n",
      "Train:\n",
      "Acuratete: 0.9915254237288136\n",
      "Test:\n",
      "Acuratete: 0.05\n",
      "Train:\n",
      "Acuratete: 1.0\n",
      "Test:\n",
      "Acuratete: 0.0\n",
      "Train:\n",
      "Acuratete: 1.0\n",
      "Test:\n",
      "Acuratete: 0.016666666666666666\n",
      "Train:\n",
      "Acuratete: 0.9915254237288136\n"
     ]
    }
   ],
   "source": [
    "for i in range(5):\n",
    "    x_train, x_test, y_train, y_test = train_test_split(x_wine, y_wine, test_size=1/3, random_state=i)\n",
    "    model = RandomForestClassifier()\n",
    "    model.fit(x_train, y_train)\n",
    "    y_predicted = model.predict(x_test)\n",
    "    print('Test:')\n",
    "    print('Acuratete:', metrics.accuracy_score(y_test, y_predicted))\n",
    "    print('Train:')\n",
    "    y_predicted = model.predict(x_train)\n",
    "    print('Acuratete:', metrics.accuracy_score(y_train, y_predicted))"
   ]
  },
  {
   "cell_type": "code",
   "execution_count": 5,
   "metadata": {},
   "outputs": [
    {
     "name": "stdout",
     "output_type": "stream",
     "text": [
      "Test:\n",
      "Acuratete: 0.016666666666666666\n",
      "Train:\n",
      "Acuratete: 0.9491525423728814\n",
      "Test:\n",
      "Acuratete: 0.0\n",
      "Train:\n",
      "Acuratete: 0.9576271186440678\n",
      "Test:\n",
      "Acuratete: 0.0\n",
      "Train:\n",
      "Acuratete: 0.9491525423728814\n",
      "Test:\n",
      "Acuratete: 0.0\n",
      "Train:\n",
      "Acuratete: 0.940677966101695\n",
      "Test:\n",
      "Acuratete: 0.016666666666666666\n",
      "Train:\n",
      "Acuratete: 0.9576271186440678\n"
     ]
    }
   ],
   "source": [
    "for i in range(5):\n",
    "    x_train, x_test, y_train, y_test = train_test_split(x_wine, y_wine, test_size=1/3, random_state=i)\n",
    "    model = GaussianNB()\n",
    "    model.fit(x_train, y_train)\n",
    "    y_predicted = model.predict(x_test)\n",
    "    print('Test:')\n",
    "    print('Acuratete:', metrics.accuracy_score(y_test, y_predicted))\n",
    "    print('Train:')\n",
    "    y_predicted = model.predict(x_train)\n",
    "    print('Acuratete:', metrics.accuracy_score(y_train, y_predicted))"
   ]
  },
  {
   "cell_type": "code",
   "execution_count": null,
   "metadata": {},
   "outputs": [],
   "source": [
    "#Poker\n",
    "for i in range(5):\n",
    "    x_train, x_test, y_train, y_test = train_test_split(x_poker, y_poker, test_size=1/3, random_state=i)\n",
    "    model = KNeighborsClassifier()\n",
    "    model.fit(x_train, y_train)\n",
    "    y_predicted = model.predict(x_test)\n",
    "    print('Test:')\n",
    "    print('Acuratete:', metrics.accuracy_score(y_test, y_predicted))\n",
    "    print('Train:')\n",
    "    y_predicted = model.predict(x_train)\n",
    "    print('Acuratete:', metrics.accuracy_score(y_train, y_predicted))"
   ]
  },
  {
   "cell_type": "code",
   "execution_count": null,
   "metadata": {},
   "outputs": [],
   "source": [
    "for i in range(5):\n",
    "    x_train, x_test, y_train, y_test = train_test_split(x_poker, y_poker, test_size=1/3, random_state=i)\n",
    "    model = MLPClassifier()\n",
    "    model.fit(x_train, y_train)\n",
    "    y_predicted = model.predict(x_test)\n",
    "    print('Test:')\n",
    "    print('Acuratete:', metrics.accuracy_score(y_test, y_predicted))\n",
    "    print('Train:')\n",
    "    y_predicted = model.predict(x_train)\n",
    "    print('Acuratete:', metrics.accuracy_score(y_train, y_predicted))"
   ]
  },
  {
   "cell_type": "code",
   "execution_count": null,
   "metadata": {},
   "outputs": [],
   "source": [
    "for i in range(5):\n",
    "    x_train, x_test, y_train, y_test = train_test_split(x_poker, y_poker, test_size=1/3, random_state=i)\n",
    "    model = SVC()\n",
    "    model.fit(x_train, y_train)\n",
    "    y_predicted = model.predict(x_test)\n",
    "    print('Test:')\n",
    "    print('Acuratete:', metrics.accuracy_score(y_test, y_predicted))\n",
    "    print('Train:')\n",
    "    y_predicted = model.predict(x_train)\n",
    "    print('Acuratete:', metrics.accuracy_score(y_train, y_predicted))"
   ]
  },
  {
   "cell_type": "code",
   "execution_count": 3,
   "metadata": {},
   "outputs": [
    {
     "name": "stdout",
     "output_type": "stream",
     "text": [
      "Test:\n",
      "Acuratete: 0.016666666666666666\n",
      "Train:\n",
      "Acuratete: 1.0\n",
      "Test:\n",
      "Acuratete: 0.0\n",
      "Train:\n",
      "Acuratete: 1.0\n",
      "Test:\n",
      "Acuratete: 0.016666666666666666\n",
      "Train:\n",
      "Acuratete: 1.0\n",
      "Test:\n",
      "Acuratete: 0.03333333333333333\n",
      "Train:\n",
      "Acuratete: 1.0\n",
      "Test:\n",
      "Acuratete: 0.05\n",
      "Train:\n",
      "Acuratete: 1.0\n"
     ]
    }
   ],
   "source": [
    "for i in range(5):\n",
    "    x_train, x_test, y_train, y_test = train_test_split(x_wine, y_wine, test_size=1/3, random_state=i)\n",
    "    model = GaussianProcessClassifier()\n",
    "    model.fit(x_train, y_train)\n",
    "    y_predicted = model.predict(x_test)\n",
    "    print('Test:')\n",
    "    print('Acuratete:', metrics.accuracy_score(y_test, y_predicted))\n",
    "    print('Train:')\n",
    "    y_predicted = model.predict(x_train)\n",
    "    print('Acuratete:', metrics.accuracy_score(y_train, y_predicted))"
   ]
  },
  {
   "cell_type": "code",
   "execution_count": null,
   "metadata": {},
   "outputs": [],
   "source": [
    "for i in range(5):\n",
    "    x_train, x_test, y_train, y_test = train_test_split(x_poker, y_poker, test_size=1/3, random_state=i)\n",
    "    model = DecisionTreeClassifier()\n",
    "    model.fit(x_train, y_train)\n",
    "    y_predicted = model.predict(x_test)\n",
    "    print('Test:')\n",
    "    print('Acuratete:', metrics.accuracy_score(y_test, y_predicted))\n",
    "    print('Train:')\n",
    "    y_predicted = model.predict(x_train)\n",
    "    print('Acuratete:', metrics.accuracy_score(y_train, y_predicted))"
   ]
  },
  {
   "cell_type": "code",
   "execution_count": 4,
   "metadata": {},
   "outputs": [
    {
     "name": "stdout",
     "output_type": "stream",
     "text": [
      "Test:\n",
      "Acuratete: 0.4990730018539963\n",
      "Train:\n",
      "Acuratete: 0.500036000036\n",
      "Test:\n",
      "Acuratete: 0.500758998482003\n",
      "Train:\n",
      "Acuratete: 0.5014355014355014\n",
      "Test:\n",
      "Acuratete: 0.5010769978460043\n",
      "Train:\n",
      "Acuratete: 0.5012780012780013\n",
      "Test:\n",
      "Acuratete: 0.5014489971020057\n",
      "Train:\n",
      "Acuratete: 0.5010920010920011\n",
      "Test:\n",
      "Acuratete: 0.5006209987580025\n",
      "Train:\n",
      "Acuratete: 0.5015060015060016\n"
     ]
    }
   ],
   "source": [
    "for i in range(5):\n",
    "    x_train, x_test, y_train, y_test = train_test_split(x_poker, y_poker, test_size=1/3, random_state=i)\n",
    "    model = GaussianNB()\n",
    "    model.fit(x_train, y_train)\n",
    "    y_predicted = model.predict(x_test)\n",
    "    print('Test:')\n",
    "    print('Acuratete:', metrics.accuracy_score(y_test, y_predicted))\n",
    "    print('Train:')\n",
    "    y_predicted = model.predict(x_train)\n",
    "    print('Acuratete:', metrics.accuracy_score(y_train, y_predicted))"
   ]
  },
  {
   "cell_type": "code",
   "execution_count": null,
   "metadata": {},
   "outputs": [],
   "source": []
  }
 ],
 "metadata": {
  "kernelspec": {
   "display_name": "Python 3",
   "language": "python",
   "name": "python3"
  },
  "language_info": {
   "codemirror_mode": {
    "name": "ipython",
    "version": 3
   },
   "file_extension": ".py",
   "mimetype": "text/x-python",
   "name": "python",
   "nbconvert_exporter": "python",
   "pygments_lexer": "ipython3",
   "version": "3.7.1"
  },
  "notify_time": "5",
  "toc": {
   "base_numbering": 1,
   "nav_menu": {},
   "number_sections": true,
   "sideBar": true,
   "skip_h1_title": false,
   "title_cell": "Table of Contents",
   "title_sidebar": "Contents",
   "toc_cell": false,
   "toc_position": {},
   "toc_section_display": true,
   "toc_window_display": false
  },
  "varInspector": {
   "cols": {
    "lenName": 16,
    "lenType": 16,
    "lenVar": 40
   },
   "kernels_config": {
    "python": {
     "delete_cmd_postfix": "",
     "delete_cmd_prefix": "del ",
     "library": "var_list.py",
     "varRefreshCmd": "print(var_dic_list())"
    },
    "r": {
     "delete_cmd_postfix": ") ",
     "delete_cmd_prefix": "rm(",
     "library": "var_list.r",
     "varRefreshCmd": "cat(var_dic_list()) "
    }
   },
   "types_to_exclude": [
    "module",
    "function",
    "builtin_function_or_method",
    "instance",
    "_Feature"
   ],
   "window_display": false
  }
 },
 "nbformat": 4,
 "nbformat_minor": 2
}
