{
 "cells": [
  {
   "cell_type": "markdown",
   "metadata": {},
   "source": [
    "# Laborator 3\n",
    "\n",
    "Saptamana 11-15 martie 2019"
   ]
  },
  {
   "cell_type": "markdown",
   "metadata": {},
   "source": [
    "## Exercitii simple folosind API de NumPy  \n",
    "\n",
    "Nota: in rezolvarea exercitiilor se vor folosi cat mai mult functii NumPy vectorizate. Functiile scrise de voi vor fi documentate cu docstrings (tutoriale: Docstrings in Python, urmati NumPy Style Python Docstrings). Folositi type annotations. Utilizati doar pachetele NumPy si SciPy."
   ]
  },
  {
   "cell_type": "markdown",
   "metadata": {},
   "source": [
    "1. (0.5 puncte) Folosind functia `np.where`, determinati care sunt liniile si coloanele care contin un element dat intr-o matrice. \n",
    "1. (0.5 puncte) Pentru o matrice de numere, sa se determine produsul elementelor pe linii.\n",
    "1. (0.5 puncte) Determinati daca toate elementele unei matrice `a` sunt mai mari sau egale decat toate de pe pozitiile corespondente din `b`.\n",
    "1. (0.5 puncte) Pentru un vector de numere, care sunt *toate pozitiile* pe care apare valoarea maxima? Folositi functie NumPy.\n",
    "1. (0.5 puncte) Se considera vectorul: `a = np.array([230, 10, 284, 39, 76])`. Folosind indexarea logica, sa se inmulteasca elementele din vector care sunt mai mici ca 100 cu 2 (restul raman neschimbate). Folosind ciclare, sa se aplice aceeasi operatie pana cand toate elementele devin mai mari ca 100. Sa se afiseze din vectorul final elementele care sunt mai mari de 150 si mai mici de 200.\n",
    "1. (0.5 puncte) Sa se scrie o functie care preia doi vectori de aceeasi lungime si returneaza maximele pe pozitiile corespunzatoare:\n",
    "```python\n",
    "a = np.array([3, 7, 9, 13, -10, 200, 3])\n",
    "b = np.array([4, 5, -9, 100, 300, 230, 1])\n",
    "pair_max(a, b)\n",
    "#iesire dorita: \n",
    "array([  4,   7,   9, 100, 300, 230,   3])\n",
    "```\n",
    "1. (1 punct) Sa se calculeze suma elementelor non-NaN intr-un 2d numpy array, in 3 feluri. Folosind comanda magica `%%timeit` [Built-in magic commands](http://ipython.readthedocs.io/en/stable/interactive/magics.html#cell-magics), [IPython Magic Commands](https://jakevdp.github.io/PythonDataScienceHandbook/01.03-magic-commands.html), sa se determine care e mai rapida.\n",
    "    1. Peste o copie a tabelului initial (functia membru `copy()` a unui tablou) se suprascriu elementele nan cu 0, apoi se face suma;\n",
    "    1. Folosind functia `np.nansum`;\n",
    "    1. Folosind indiciere booleana si functia `np.isnan`, se determina colectia elementelor non-nan si se calculeaza suma lor in mod obisnuit.\n",
    "1. (1 punct) Incarcati setul de date Iris, de la adresa 'https://archive.ics.uci.edu/ml/machine-learning-databases/iris/iris.data', folosind `np.genfromtxt`.  Alegeti aleator 10 pozitii in matricea de 150 linii si 4 coloane (omiteti ultima coloana, de tip text), setati aceste valori pe NaN. Construiti o functie care, primid la intrare o matrice, returneaza un tuplu cu indicii de linie respectiv de coloana in care se gasesc valori NaN.\n",
    "1. (1 punct) Construiti o functie care, primind o matrice, determina pe ce pozitii se afla valorile in afara unui interval \\[min, max\\] dat prin parametri. \n",
    "1. (1 punct) Sa se construiasca o functie care returneaza cele mai mari `k` valori dintr-un vector de cel putin `k` elemente, impreuna cu pozitiile lor. "
   ]
  },
  {
   "cell_type": "markdown",
   "metadata": {},
   "source": [
    "**Precizari:**\n",
    "1. Se acorda 3 puncte din oficiu.\n",
    "1. Tema se va prezenta in sapatamana 18-22 martie. \n",
    "1. Modalitatea de predare a temei: \n",
    "    1. se vor forma si se va lucra in echipe de cate doua persoane (in cazul in care nu se poate, se va lucra individual)\n",
    "    2. exercitiile rezolvate se vor comite pe un repository **privat** de [Github](https://github.com/), la care vor avea doar acces membrii echipei si profesorii, Lucian Mircea Sasu (cont github: lmsasu) respectiv Arpad Kerestely (cont github: akerestely)\n",
    "    3. repository-ul va contine un fisier \"readme.md\" (in radacina repository-ului) in care vor fi mentionati autorii temelor (cu nume complet)"
   ]
  },
  {
   "cell_type": "code",
   "execution_count": 8,
   "metadata": {},
   "outputs": [],
   "source": [
    "import numpy as np"
   ]
  },
  {
   "cell_type": "code",
   "execution_count": 11,
   "metadata": {},
   "outputs": [
    {
     "name": "stdout",
     "output_type": "stream",
     "text": [
      "[[ 1  2  3  4]\n",
      " [ 5  4  7  9]\n",
      " [ 9 10 11  4]\n",
      " [ 4 47  9 16]]\n",
      "Lines where the element is:  [1, 2, 3]\n",
      "Columns where the element is:  [3, 0, 2]\n"
     ]
    }
   ],
   "source": [
    "# Problem 1\n",
    "\n",
    "def fun(matrix, element):\n",
    "    \"\"\"This function stores in the variable 'location', the lines and the columns where we can find the 'element'\n",
    "        Parameters: matrix, element(the element searched)\n",
    "        Return: Nothing\"\"\"\n",
    "    \n",
    "    location=np.where(matrix == element)\n",
    "    print(\"Lines where the element is: \", list(location[0]))\n",
    "    print(\"Columns where the element is: \",list(location[1]))\n",
    "    \n",
    "matrix: int= np.matrix([[1, 2, 3, 4], [5, 4, 7, 9],[9, 10, 11, 4], [4, 47, 9, 16]])\n",
    "print(matrix)\n",
    "fun(matrix, 9)"
   ]
  },
  {
   "cell_type": "code",
   "execution_count": 15,
   "metadata": {},
   "outputs": [
    {
     "name": "stdout",
     "output_type": "stream",
     "text": [
      "Matrix: \n",
      " [[ 1  2  3  4]\n",
      " [ 5  6  7  8]\n",
      " [ 2  4  5 10]\n",
      " [ 1  2  3  4]]\n",
      "The product on lines:\n"
     ]
    },
    {
     "data": {
      "text/plain": [
       "matrix([[  24],\n",
       "        [1680],\n",
       "        [ 400],\n",
       "        [  24]])"
      ]
     },
     "execution_count": 15,
     "metadata": {},
     "output_type": "execute_result"
    }
   ],
   "source": [
    "# Problem 2\n",
    "\n",
    "def fun(matrix):\n",
    "    \"\"\"This function stores in the variable 'matrix_transpose' the product of the initial matrix\n",
    "        and after that the variable is transpose\n",
    "        Parameters: matrix\n",
    "        Return: The matrix transpose\"\"\"\n",
    "    \n",
    "    matrix_transpose=matrix.prod(axis=1)\n",
    "    matrix_transpose.transpose()\n",
    "    print(\"The product on lines:\")\n",
    "    return matrix_transpose\n",
    "\n",
    "matrix: int = np.matrix([[1, 2, 3, 4], [5, 6, 7, 8],[2, 4, 5, 10], [1, 2, 3, 4]])\n",
    "print(\"Matrix: \\n\", matrix)\n",
    "fun(matrix)"
   ]
  },
  {
   "cell_type": "code",
   "execution_count": 20,
   "metadata": {},
   "outputs": [
    {
     "name": "stdout",
     "output_type": "stream",
     "text": [
      "[[ 2  3  4  5]\n",
      " [ 6  7  8  9]\n",
      " [10 11 12 13]\n",
      " [13 14 15 15]]\n",
      "[[ 1  2  3  4]\n",
      " [ 5  6  7  8]\n",
      " [ 9 10 11 12]\n",
      " [13 14 15 16]]\n",
      "Not all the elements from the first matrix are greater than the elements from the second matrix\n"
     ]
    }
   ],
   "source": [
    "#Problem 3\n",
    "\n",
    "def fun(matrix1, matrix2):\n",
    "    \"\"\"This function verify if all elements from a matrix are greater than the elements from another one. If is it will display a text\n",
    "        Parameters: first matrix, second matrix\n",
    "        Return: Nothing\"\"\"\n",
    "    \n",
    "    if(np.greater_equal(matrix1, matrix2).all()):\n",
    "        print(\"All the elements from the first matrix are greater than the elements from the second matrix\")\n",
    "    else:\n",
    "        print(\"Not all the elements from the first matrix are greater than the elements from the second matrix\")\n",
    "    \n",
    "matrix1: int = np.array([[2, 3, 4, 5], [6, 7, 8 ,9 ],[10, 11, 12, 13], [13, 14, 15, 15]])\n",
    "matrix2: int = np.array([[1, 2, 3, 4], [5, 6, 7, 8],[9, 10, 11, 12], [13, 14, 15, 16]])\n",
    "print(matrix1)\n",
    "print(matrix2)\n",
    "fun(matrix1, matrix2)"
   ]
  },
  {
   "cell_type": "code",
   "execution_count": 19,
   "metadata": {},
   "outputs": [
    {
     "name": "stdout",
     "output_type": "stream",
     "text": [
      "The max element is:  99\n",
      "Indices for the max element: [7, 16]\n"
     ]
    }
   ],
   "source": [
    "# Problem 4 \n",
    "\n",
    "def fun(array):\n",
    "    \"\"\"This function finds the maximum element in an array and print it with his indices\n",
    "        Parameters: the array\n",
    "        Return: Nothing\"\"\"\n",
    "    \n",
    "    maxElement: int = np.max(array)\n",
    "    print(\"The max element is: \", maxElement)\n",
    "    result = np.where(array == maxElement)\n",
    "    print(\"Indices for the max element:\", list(result[0]))\n",
    "    \n",
    "array: int = np.array([1,2,3,4,5,6,7,99,8,9,10,11,12,13,14,15,99,16,17,18,19,20])\n",
    "fun(array)"
   ]
  },
  {
   "cell_type": "code",
   "execution_count": 27,
   "metadata": {},
   "outputs": [
    {
     "name": "stdout",
     "output_type": "stream",
     "text": [
      "[230, 10, 284, 39, 76]\n",
      "Logic indexing:\n",
      " [230, 20, 284, 78, 152]\n",
      "Cycle:\n",
      " [230 160 284 156 152]\n",
      "Final elements:\n",
      " [160 156 152]\n"
     ]
    }
   ],
   "source": [
    "#Problem 5\n",
    "\n",
    "def logic_indexing(arr):\n",
    "    \"\"\"This function multiply with 2 the elements from an array, that are greater than 100, using logic indexing.\n",
    "        Parameters: the array\n",
    "        Return: Nothing\"\"\"\n",
    "    \n",
    "    arr[arr < 100] *= 2\n",
    "    print((\"Logic indexing:\\n\"), list(arr))\n",
    "    \n",
    "def cycle(arr):\n",
    "    \"\"\"This function multiply with 2 the elements from an array while all the elements are greater than 100 and display the elements between 150 and 200.\n",
    "        Parameters: the array\n",
    "        Return: Nothing\"\"\"\n",
    "\n",
    "    #arr1 = [i*2 if i < 100 else i for i in arr]\n",
    "    while np.any(arr<100):\n",
    "        arr[arr<100]*=2\n",
    "    print(\"Cycle:\\n\", arr)\n",
    "    print(\"Final elements:\\n\", arr[np.logical_and(arr>150, arr<200)])\n",
    "\n",
    "arr: int = np.array([230, 10, 284, 39, 76])\n",
    "print(list(arr))\n",
    "logic_indexing(arr)\n",
    "arr: int = np.array([230, 10, 284, 39, 76])\n",
    "cycle(arr)"
   ]
  },
  {
   "cell_type": "code",
   "execution_count": 29,
   "metadata": {},
   "outputs": [
    {
     "name": "stdout",
     "output_type": "stream",
     "text": [
      "[4, 7, 9, 100, 300, 230, 3]\n"
     ]
    }
   ],
   "source": [
    "#Problema 6\n",
    "\n",
    "def pair_max(array1, array2):\n",
    "    \"\"\"This function implements 'maximum' from numpy and return maximum between 2 arrays\n",
    "    Parameters: first array and the second array\n",
    "    Return: an array with maximum\"\"\"\n",
    "    \n",
    "    return np.maximum(array1, array2)\n",
    "\n",
    "a: int = np.array([3, 7, 9, 13, -10, 200, 3])\n",
    "b: int = np.array([4, 5, -9, 100, 300, 230, 1])\n",
    "rezultat = pair_max(a,b)\n",
    "print(list(rezultat))"
   ]
  },
  {
   "cell_type": "code",
   "execution_count": 37,
   "metadata": {},
   "outputs": [
    {
     "name": "stdout",
     "output_type": "stream",
     "text": [
      "Wall time: 0 ns\n",
      "[[ 1.  2.  3.]\n",
      " [nan  4.  5.]\n",
      " [nan nan  6.]]\n",
      "21.0\n"
     ]
    },
    {
     "data": {
      "text/plain": [
       "21.0"
      ]
     },
     "execution_count": 37,
     "metadata": {},
     "output_type": "execute_result"
    }
   ],
   "source": [
    "#Problema 7\n",
    "#This program calculate the sum of non-Nan elements in 3 ways\n",
    "import timeit\n",
    "\n",
    "%time\n",
    "matrix: int=np.array([[1, 2, 3],\n",
    "        [np.nan,4 , 5],\n",
    "        [np.nan, np.nan, 6]])\n",
    "print(matrix)\n",
    "\n",
    "def fun1():\n",
    "    \"\"\"This function copy the initial matrix and replace the values nan with 0. After that, calculate the sum\n",
    "        Parameters: Nothing\n",
    "        Return: Nothing\"\"\"\n",
    "    copy: int=matrix.copy()\n",
    "    copy[np.isnan(copy)]=0\n",
    "    print(copy)\n",
    "    print(copy.sum())\n",
    "    \n",
    "def fun2():\n",
    "    \"\"\"This function use a numpy function to calculate the sum\"\"\"\n",
    "    return np.nansum(matrix)\n",
    "\n",
    "def fun3():\n",
    "    notNone: int=np.isnan(matrix)\n",
    "    print(notNone)\n",
    "    print(matrix2)\n",
    "    \n",
    "fun1()\n",
    "fun2()\n",
    "#fun3()"
   ]
  },
  {
   "cell_type": "code",
   "execution_count": 40,
   "metadata": {},
   "outputs": [
    {
     "name": "stdout",
     "output_type": "stream",
     "text": [
      "[[5.1 3.5 1.4 0.2]\n",
      " [4.9 3.  1.4 0.2]\n",
      " [4.7 3.2 1.3 0.2]\n",
      " [4.6 3.1 1.5 0.2]\n",
      " [5.  3.6 1.4 0.2]\n",
      " [5.4 3.9 1.7 0.4]\n",
      " [4.6 3.4 1.4 0.3]\n",
      " [5.  3.4 1.5 0.2]\n",
      " [4.4 2.9 1.4 0.2]\n",
      " [4.9 3.1 1.5 0.1]\n",
      " [5.4 3.7 1.5 0.2]\n",
      " [4.8 3.4 1.6 0.2]\n",
      " [4.8 3.  1.4 0.1]\n",
      " [4.3 3.  1.1 0.1]\n",
      " [5.8 4.  1.2 0.2]\n",
      " [5.7 4.4 1.5 0.4]\n",
      " [5.4 3.9 1.3 0.4]\n",
      " [5.1 3.5 1.4 0.3]\n",
      " [5.7 3.8 1.7 0.3]\n",
      " [5.1 3.8 1.5 0.3]\n",
      " [5.4 3.4 1.7 0.2]\n",
      " [5.1 3.7 1.5 0.4]\n",
      " [4.6 3.6 1.  0.2]\n",
      " [5.1 3.3 1.7 0.5]\n",
      " [4.8 3.4 1.9 0.2]\n",
      " [5.  3.  1.6 0.2]\n",
      " [5.  3.4 1.6 0.4]\n",
      " [5.2 3.5 1.5 0.2]\n",
      " [5.2 3.4 1.4 0.2]\n",
      " [4.7 3.2 1.6 0.2]\n",
      " [4.8 3.1 1.6 0.2]\n",
      " [5.4 3.4 1.5 0.4]\n",
      " [5.2 4.1 1.5 0.1]\n",
      " [5.5 4.2 1.4 0.2]\n",
      " [4.9 3.1 1.5 0.1]\n",
      " [5.  3.2 1.2 0.2]\n",
      " [5.5 3.5 1.3 0.2]\n",
      " [4.9 3.1 1.5 0.1]\n",
      " [4.4 3.  1.3 0.2]\n",
      " [5.1 3.4 1.5 0.2]\n",
      " [nan 3.5 1.3 0.3]\n",
      " [4.5 2.3 1.3 0.3]\n",
      " [4.4 3.2 1.3 0.2]\n",
      " [5.  3.5 1.6 0.6]\n",
      " [5.1 3.8 1.9 0.4]\n",
      " [4.8 3.  1.4 0.3]\n",
      " [5.1 3.8 1.6 0.2]\n",
      " [4.6 3.2 1.4 0.2]\n",
      " [5.3 3.7 1.5 0.2]\n",
      " [5.  3.3 1.4 0.2]\n",
      " [7.  3.2 nan 1.4]\n",
      " [6.4 3.2 4.5 1.5]\n",
      " [6.9 3.1 4.9 1.5]\n",
      " [5.5 2.3 4.  1.3]\n",
      " [6.5 2.8 4.6 1.5]\n",
      " [5.7 2.8 4.5 1.3]\n",
      " [6.3 3.3 4.7 1.6]\n",
      " [4.9 2.4 3.3 1. ]\n",
      " [6.6 2.9 4.6 1.3]\n",
      " [5.2 2.7 3.9 1.4]\n",
      " [5.  2.  3.5 1. ]\n",
      " [5.9 3.  4.2 1.5]\n",
      " [6.  2.2 4.  1. ]\n",
      " [6.1 2.9 4.7 1.4]\n",
      " [5.6 2.9 3.6 1.3]\n",
      " [6.7 3.1 4.4 1.4]\n",
      " [5.6 3.  4.5 1.5]\n",
      " [5.8 2.7 4.1 1. ]\n",
      " [6.2 2.2 4.5 1.5]\n",
      " [5.6 2.5 3.9 1.1]\n",
      " [5.9 3.2 4.8 1.8]\n",
      " [6.1 2.8 4.  1.3]\n",
      " [6.3 2.5 4.9 1.5]\n",
      " [6.1 2.8 4.7 1.2]\n",
      " [6.4 2.9 4.3 1.3]\n",
      " [6.6 3.  4.4 1.4]\n",
      " [6.8 2.8 4.8 1.4]\n",
      " [6.7 3.  5.  1.7]\n",
      " [6.  2.9 4.5 1.5]\n",
      " [5.7 2.6 3.5 1. ]\n",
      " [5.5 2.4 3.8 1.1]\n",
      " [5.5 nan 3.7 1. ]\n",
      " [5.8 2.7 3.9 1.2]\n",
      " [6.  2.7 5.1 1.6]\n",
      " [5.4 3.  4.5 1.5]\n",
      " [6.  3.4 4.5 1.6]\n",
      " [6.7 3.1 4.7 1.5]\n",
      " [6.3 2.3 4.4 nan]\n",
      " [5.6 3.  4.1 1.3]\n",
      " [5.5 2.5 4.  1.3]\n",
      " [5.5 2.6 4.4 1.2]\n",
      " [6.1 3.  4.6 1.4]\n",
      " [5.8 2.6 4.  1.2]\n",
      " [5.  2.3 3.3 1. ]\n",
      " [5.6 2.7 4.2 1.3]\n",
      " [5.7 3.  4.2 1.2]\n",
      " [5.7 2.9 4.2 1.3]\n",
      " [6.2 2.9 4.3 1.3]\n",
      " [5.1 2.5 3.  1.1]\n",
      " [nan 2.8 4.1 1.3]\n",
      " [6.3 3.3 6.  2.5]\n",
      " [5.8 2.7 5.1 1.9]\n",
      " [7.1 3.  5.9 2.1]\n",
      " [6.3 2.9 5.6 1.8]\n",
      " [6.5 3.  5.8 2.2]\n",
      " [7.6 nan 6.6 2.1]\n",
      " [4.9 2.5 4.5 1.7]\n",
      " [7.3 2.9 6.3 1.8]\n",
      " [6.7 2.5 5.8 1.8]\n",
      " [nan 3.6 6.1 2.5]\n",
      " [6.5 3.2 5.1 2. ]\n",
      " [6.4 2.7 5.3 1.9]\n",
      " [6.8 3.  5.5 2.1]\n",
      " [5.7 2.5 5.  2. ]\n",
      " [5.8 2.8 5.1 2.4]\n",
      " [nan 3.2 5.3 2.3]\n",
      " [6.5 3.  5.5 1.8]\n",
      " [7.7 3.8 6.7 2.2]\n",
      " [7.7 2.6 6.9 2.3]\n",
      " [6.  2.2 5.  1.5]\n",
      " [6.9 3.2 5.7 2.3]\n",
      " [5.6 2.8 4.9 2. ]\n",
      " [7.7 2.8 6.7 2. ]\n",
      " [6.3 2.7 4.9 1.8]\n",
      " [6.7 3.3 5.7 2.1]\n",
      " [7.2 3.2 6.  1.8]\n",
      " [6.2 2.8 4.8 1.8]\n",
      " [6.1 3.  4.9 1.8]\n",
      " [6.4 2.8 5.6 2.1]\n",
      " [7.2 3.  5.8 1.6]\n",
      " [nan 2.8 6.1 1.9]\n",
      " [7.9 3.8 6.4 2. ]\n",
      " [6.4 2.8 5.6 2.2]\n",
      " [6.3 2.8 5.1 1.5]\n",
      " [6.1 2.6 5.6 1.4]\n",
      " [7.7 3.  6.1 2.3]\n",
      " [6.3 3.4 5.6 2.4]\n",
      " [6.4 3.1 5.5 1.8]\n",
      " [6.  3.  4.8 1.8]\n",
      " [6.9 3.1 5.4 2.1]\n",
      " [6.7 3.1 5.6 2.4]\n",
      " [6.9 3.1 5.1 2.3]\n",
      " [5.8 2.7 5.1 1.9]\n",
      " [6.8 3.2 5.9 2.3]\n",
      " [6.7 3.3 5.7 2.5]\n",
      " [6.7 3.  5.2 2.3]\n",
      " [6.3 2.5 5.  1.9]\n",
      " [6.5 3.  5.2 2. ]\n",
      " [6.2 3.4 5.4 nan]\n",
      " [5.9 3.  5.1 1.8]]\n"
     ]
    },
    {
     "data": {
      "text/plain": [
       "([40, 50, 81, 87, 99, 105, 109, 115, 130, 148], [0, 2, 1, 3, 0, 1, 0, 0, 0, 3])"
      ]
     },
     "execution_count": 40,
     "metadata": {},
     "output_type": "execute_result"
    }
   ],
   "source": [
    "#Problema 8\n",
    "import random\n",
    "from io import StringIO\n",
    "\n",
    "def random_nan(data):\n",
    "    \"\"\"This function takes random indices from the matrix and replace the values with nan.\n",
    "        Parameters: the matrix\n",
    "        Return: Nothing\"\"\"\n",
    "    for i in range(0, 10):\n",
    "        random_index1 = np.random.randint(0, data.shape[0])\n",
    "        random_index2 = np.random.randint(0, data.shape[1])\n",
    "        data[random_index1, random_index2]=np.nan\n",
    "    print(data)\n",
    "    \n",
    "def location_nan(data):\n",
    "    \"\"\"This function returns indices on lines and on columns for the nan values\n",
    "        Parameters: data\n",
    "        Return: 2 arrays with indices(lines and columns)\"\"\"\n",
    "    location=np.where(np.isnan(data))\n",
    "    return list(location[0]), list(location[1])\n",
    "\n",
    "data: int=np.genfromtxt(\"iris.data.txt\", delimiter=',', usecols=(0, 1, 2, 3))\n",
    "data: int=np.array(data)\n",
    "random_nan(data)\n",
    "location_nan(data)"
   ]
  },
  {
   "cell_type": "code",
   "execution_count": 39,
   "metadata": {},
   "outputs": [
    {
     "name": "stdout",
     "output_type": "stream",
     "text": [
      "[0 0 0 0 1 1 2 2 2 3 3 3] [0 1 2 3 0 2 1 2 3 0 1 2]\n"
     ]
    }
   ],
   "source": [
    "#Problema 9\n",
    "\n",
    "mat: int=np.array([[1,2,3,4],\n",
    "              [3,5,2,7],\n",
    "              [6,9,1,4],\n",
    "              [3,8,1,7]])\n",
    "\n",
    "def fun(min,max):\n",
    "    \"\"\"This function verify all the matrix's elements between an interval and returns 2 arrays with indices.\n",
    "        Parameters: minimum and maximum for the interval\n",
    "        Return: 2 arrays with indices(lines and columns)\"\"\"\n",
    "    positions=np.where(np.logical_or(mat > max , mat < min))\n",
    "    print(positions[0], positions[1])\n",
    "    \n",
    "fun(5,7)"
   ]
  },
  {
   "cell_type": "code",
   "execution_count": 42,
   "metadata": {},
   "outputs": [
    {
     "name": "stdout",
     "output_type": "stream",
     "text": [
      "Maximum: [95 97 98 99]\n",
      "Indices: [ 6 10 13 18]\n"
     ]
    }
   ],
   "source": [
    "#Problema 10\n",
    "\n",
    "def fun(n):\n",
    "    \"\"\"This function prints the number of maximum elements that is gived by parameter and their indices\n",
    "        Parameters: the number of maximum elements\n",
    "        Return: Nothing\"\"\"\n",
    "    \n",
    "    ind: int=np.argpartition(mat, -n)[-n:]\n",
    "    print(\"Maximum:\", mat[ind])\n",
    "    print(\"Indices:\", ind)\n",
    "    \n",
    "mat=np.array([1,2,3,4,5,6,95,8,9,10,97,12,13,98,15,16,17,18,99])\n",
    "fun(4)"
   ]
  },
  {
   "cell_type": "code",
   "execution_count": null,
   "metadata": {},
   "outputs": [],
   "source": []
  }
 ],
 "metadata": {
  "kernelspec": {
   "display_name": "Python 3",
   "language": "python",
   "name": "python3"
  },
  "language_info": {
   "codemirror_mode": {
    "name": "ipython",
    "version": 3
   },
   "file_extension": ".py",
   "mimetype": "text/x-python",
   "name": "python",
   "nbconvert_exporter": "python",
   "pygments_lexer": "ipython3",
   "version": "3.7.1"
  },
  "toc": {
   "base_numbering": 1,
   "nav_menu": {},
   "number_sections": true,
   "sideBar": true,
   "skip_h1_title": false,
   "title_cell": "Table of Contents",
   "title_sidebar": "Contents",
   "toc_cell": false,
   "toc_position": {},
   "toc_section_display": true,
   "toc_window_display": false
  }
 },
 "nbformat": 4,
 "nbformat_minor": 2
}
