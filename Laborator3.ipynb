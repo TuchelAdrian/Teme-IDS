{
 "cells": [
  {
   "cell_type": "markdown",
   "metadata": {},
   "source": [
    "# Laborator 3\n",
    "\n",
    "Saptamana 11-15 martie 2019"
   ]
  },
  {
   "cell_type": "markdown",
   "metadata": {},
   "source": [
    "## Exercitii simple folosind API de NumPy  \n",
    "\n",
    "Nota: in rezolvarea exercitiilor se vor folosi cat mai mult functii NumPy vectorizate. Functiile scrise de voi vor fi documentate cu docstrings (tutoriale: Docstrings in Python, urmati NumPy Style Python Docstrings). Folositi type annotations. Utilizati doar pachetele NumPy si SciPy."
   ]
  },
  {
   "cell_type": "markdown",
   "metadata": {},
   "source": [
    "1. (0.5 puncte) Folosind functia `np.where`, determinati care sunt liniile si coloanele care contin un element dat intr-o matrice. \n",
    "1. (0.5 puncte) Pentru o matrice de numere, sa se determine produsul elementelor pe linii.\n",
    "1. (0.5 puncte) Determinati daca toate elementele unei matrice `a` sunt mai mari sau egale decat toate de pe pozitiile corespondente din `b`.\n",
    "1. (0.5 puncte) Pentru un vector de numere, care sunt *toate pozitiile* pe care apare valoarea maxima? Folositi functie NumPy.\n",
    "1. (0.5 puncte) Se considera vectorul: `a = np.array([230, 10, 284, 39, 76])`. Folosind indexarea logica, sa se inmulteasca elementele din vector care sunt mai mici ca 100 cu 2 (restul raman neschimbate). Folosind ciclare, sa se aplice aceeasi operatie pana cand toate elementele devin mai mari ca 100. Sa se afiseze din vectorul final elementele care sunt mai mari de 150 si mai mici de 200.\n",
    "1. (0.5 puncte) Sa se scrie o functie care preia doi vectori de aceeasi lungime si returneaza maximele pe pozitiile corespunzatoare:\n",
    "```python\n",
    "a = np.array([3, 7, 9, 13, -10, 200, 3])\n",
    "b = np.array([4, 5, -9, 100, 300, 230, 1])\n",
    "pair_max(a, b)\n",
    "#iesire dorita: \n",
    "array([  4,   7,   9, 100, 300, 230,   3])\n",
    "```\n",
    "1. (1 punct) Sa se calculeze suma elementelor non-NaN intr-un 2d numpy array, in 3 feluri. Folosind comanda magica `%%timeit` [Built-in magic commands](http://ipython.readthedocs.io/en/stable/interactive/magics.html#cell-magics), [IPython Magic Commands](https://jakevdp.github.io/PythonDataScienceHandbook/01.03-magic-commands.html), sa se determine care e mai rapida.\n",
    "    1. Peste o copie a tabelului initial (functia membru `copy()` a unui tablou) se suprascriu elementele nan cu 0, apoi se face suma;\n",
    "    1. Folosind functia `np.nansum`;\n",
    "    1. Folosind indiciere booleana si functia `np.isnan`, se determina colectia elementelor non-nan si se calculeaza suma lor in mod obisnuit.\n",
    "1. (1 punct) Incarcati setul de date Iris, de la adresa 'https://archive.ics.uci.edu/ml/machine-learning-databases/iris/iris.data', folosind `np.genfromtxt`.  Alegeti aleator 10 pozitii in matricea de 150 linii si 4 coloane (omiteti ultima coloana, de tip text), setati aceste valori pe NaN. Construiti o functie care, primid la intrare o matrice, returneaza un tuplu cu indicii de linie respectiv de coloana in care se gasesc valori NaN.\n",
    "1. (1 punct) Construiti o functie care, primind o matrice, determina pe ce pozitii se afla valorile in afara unui interval \\[min, max\\] dat prin parametri. \n",
    "1. (1 punct) Sa se construiasca o functie care returneaza cele mai mari `k` valori dintr-un vector de cel putin `k` elemente, impreuna cu pozitiile lor. "
   ]
  },
  {
   "cell_type": "markdown",
   "metadata": {},
   "source": [
    "**Precizari:**\n",
    "1. Se acorda 3 puncte din oficiu.\n",
    "1. Tema se va prezenta in sapatamana 18-22 martie. \n",
    "1. Modalitatea de predare a temei: \n",
    "    1. se vor forma si se va lucra in echipe de cate doua persoane (in cazul in care nu se poate, se va lucra individual)\n",
    "    2. exercitiile rezolvate se vor comite pe un repository **privat** de [Github](https://github.com/), la care vor avea doar acces membrii echipei si profesorii, Lucian Mircea Sasu (cont github: lmsasu) respectiv Arpad Kerestely (cont github: akerestely)\n",
    "    3. repository-ul va contine un fisier \"readme.md\" (in radacina repository-ului) in care vor fi mentionati autorii temelor (cu nume complet)"
   ]
  },
  {
   "cell_type": "code",
   "execution_count": 141,
   "metadata": {},
   "outputs": [
    {
     "name": "stdout",
     "output_type": "stream",
     "text": [
      "[[ 1  2  3  4]\n",
      " [ 5  4  7  9]\n",
      " [ 9 10 11  4]\n",
      " [ 4 47 15 16]]\n",
      "Liniile pe care se afla numarul cautat sunt:  [0, 1, 2, 3]\n",
      "Coloanele pe care se afla numarul cautat sunt:  [3, 1, 3, 0]\n"
     ]
    }
   ],
   "source": [
    "# Problema 1\n",
    "\n",
    "import numpy as np\n",
    "x = np.matrix([[1, 2, 3, 4], [5, 4, 7, 9],[9, 10, 11, 4], [4, 47, 15, 16]])\n",
    "print(x)\n",
    "element = 4\n",
    "location=np.where(x == element)\n",
    "print(\"Liniile pe care se afla numarul cautat sunt: \", list(location[0]))\n",
    "print(\"Coloanele pe care se afla numarul cautat sunt: \",list(location[1]))"
   ]
  },
  {
   "cell_type": "code",
   "execution_count": 40,
   "metadata": {},
   "outputs": [
    {
     "name": "stdout",
     "output_type": "stream",
     "text": [
      "Matricea de numere este: \n",
      " [[ 1  2  3  4]\n",
      " [ 5  6  7  8]\n",
      " [ 9 10 11 12]\n",
      " [13 14 15 16]]\n",
      "Produsul pe linii al elementelor: \n",
      " [[   24]\n",
      " [ 1680]\n",
      " [11880]\n",
      " [43680]]\n"
     ]
    }
   ],
   "source": [
    "# Problema 2 - produsul pe linii al elementelor unei matrice\n",
    "\n",
    "import numpy as np\n",
    "from itertools import chain\n",
    "x = np.matrix([[1, 2, 3, 4], [5, 6, 7, 8],[9, 10, 11, 12], [13, 14, 15, 16]])\n",
    "print(\"Matricea de numere este: \\n\", x)\n",
    "print(\"Produsul pe linii al elementelor: \\n\", x.prod(axis=1))\n"
   ]
  },
  {
   "cell_type": "code",
   "execution_count": 123,
   "metadata": {},
   "outputs": [
    {
     "name": "stdout",
     "output_type": "stream",
     "text": [
      "[[ 2  3  4  5]\n",
      " [ 6  7  8  9]\n",
      " [10 11 12 13]\n",
      " [13 14 15 15]]\n",
      "[[ 1  2  3  4]\n",
      " [ 5  6  7  8]\n",
      " [ 9 10 11 12]\n",
      " [13 14 15 16]]\n",
      "False\n",
      "Toate elementele matricei a nu sunt mai mari sau egale decat toate elementele matricei b\n"
     ]
    }
   ],
   "source": [
    "#Problema 3\n",
    "\n",
    "import numpy as np\n",
    "matrix1 = np.array([[2, 3, 4, 5], [6, 7, 8 ,9 ],[10, 11, 12, 13], [13, 14, 15, 15]])\n",
    "matrix2 = np.array([[1, 2, 3, 4], [5, 6, 7, 8],[9, 10, 11, 12], [13, 14, 15, 16]])\n",
    "print(matrix1)\n",
    "print(matrix2)\n",
    "print(np.greater_equal(matrix1,matrix2).all())\n",
    "if(np.greater_equal(matrix1, matrix2).all()):\n",
    "    print(\"Toate elementele matricei a sunt mai mari sau egale decat toate elementele matricei b\")\n",
    "else:\n",
    "    print(\"Toate elementele matricei a nu sunt mai mari sau egale decat toate elementele matricei b\")"
   ]
  },
  {
   "cell_type": "code",
   "execution_count": 139,
   "metadata": {},
   "outputs": [
    {
     "name": "stdout",
     "output_type": "stream",
     "text": [
      "Elementul maxim este:  99\n",
      "Pozitiile unde se afla elementul maxim in vector sunt [7, 16]\n"
     ]
    }
   ],
   "source": [
    "# Problema 4 \n",
    "\n",
    "import numpy as np\n",
    "\n",
    "array1 = np.array([1,2,3,4,5,6,7,99,8,9,10,11,12,13,14,15,99,16,17,18,19,20])\n",
    "maxElement = np.amax(array1)\n",
    "print(\"Elementul maxim este: \", maxElement)\n",
    "\n",
    "rezultat = np.where(array1 == np.amax(array1))\n",
    "print(\"Pozitiile unde se afla elementul maxim in vector sunt\", list(rezultat[0]))"
   ]
  },
  {
   "cell_type": "code",
   "execution_count": 79,
   "metadata": {},
   "outputs": [
    {
     "name": "stdout",
     "output_type": "stream",
     "text": [
      "Inainte de modificare vectorul este:\n",
      " [230, 10, 284, 39, 76]\n",
      "Dupa modificare vectorul este:\n",
      " [230, 20, 284, 78, 152]\n",
      "Inainte de modificare vectorul este:\n",
      " [230, 10, 284, 39, 76]\n",
      "Dupa modificare vectorul este:\n",
      " [230, 20, 284, 78, 152]\n"
     ]
    }
   ],
   "source": [
    "#Problema 5\n",
    "\n",
    "import numpy as np\n",
    "# indexare logica\n",
    "arr = np.array([230, 10, 284, 39, 76])\n",
    "print(\"Inainte de modificare vectorul este:\\n\", list(arr))\n",
    "\n",
    "# daca elementul este mai mic ca 100 se inmulteste cu 2\n",
    "arr[arr < 100] *= 2\n",
    "print((\"Dupa modificare vectorul este:\\n\"), list(arr))\n",
    "\n",
    "#ciclare \n",
    "arr = np.array([230, 10, 284, 39, 76])\n",
    "print(\"Inainte de modificare vectorul este:\\n\", list(arr))\n",
    "arr1 = [i*2 if i < 100 else i for i in arr]\n",
    "print((\"Dupa modificare vectorul este:\\n\"), list(arr1))"
   ]
  },
  {
   "cell_type": "code",
   "execution_count": 65,
   "metadata": {},
   "outputs": [
    {
     "name": "stdout",
     "output_type": "stream",
     "text": [
      "[4, 7, 9, 100, 300, 230, 3]\n"
     ]
    }
   ],
   "source": [
    "#Problema 6\n",
    "import numpy as np\n",
    "\n",
    "def pair_max(array1, array2):\n",
    "    return np.maximum(array1, array2)\n",
    "\n",
    "a = np.array([3, 7, 9, 13, -10, 200, 3])\n",
    "b = np.array([4, 5, -9, 100, 300, 230, 1])\n",
    "rezultat = np.array([None] * 10)\n",
    "rezultat = pair_max(a,b)\n",
    "rezultat1 = list(rezultat)\n",
    "print(rezultat1)"
   ]
  }
 ],
 "metadata": {
  "kernelspec": {
   "display_name": "Python 3",
   "language": "python",
   "name": "python3"
  },
  "language_info": {
   "codemirror_mode": {
    "name": "ipython",
    "version": 3
   },
   "file_extension": ".py",
   "mimetype": "text/x-python",
   "name": "python",
   "nbconvert_exporter": "python",
   "pygments_lexer": "ipython3",
   "version": "3.7.1"
  },
  "toc": {
   "base_numbering": 1,
   "nav_menu": {},
   "number_sections": true,
   "sideBar": true,
   "skip_h1_title": false,
   "title_cell": "Table of Contents",
   "title_sidebar": "Contents",
   "toc_cell": false,
   "toc_position": {},
   "toc_section_display": true,
   "toc_window_display": false
  }
 },
 "nbformat": 4,
 "nbformat_minor": 2
}
